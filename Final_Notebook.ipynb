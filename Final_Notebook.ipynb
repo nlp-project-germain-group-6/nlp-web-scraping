{
 "cells": [
  {
   "cell_type": "markdown",
   "id": "46a1f186",
   "metadata": {},
   "source": [
    "# Using Natural Language to Predict Programming Languange \n",
    "## Webscraping and Natural Language Processing Project \n",
    "### Presented by Chris Everts, Randy French, and Malachi Hale"
   ]
  },
  {
   "cell_type": "markdown",
   "id": "58914857",
   "metadata": {},
   "source": [
    "## Executive Summary \n",
    "\n",
    "### Project Goal\n",
    "\n",
    "For this project, we will be scraping data from GitHub repository README files. The goal will be to build a model that can predict what programming language a repository is, given the text of the README file.\n",
    "\n",
    "### Outline \n",
    "\n",
    "We take the following steps: \n",
    "\n",
    " - **Acquire** the text data from GitHub READme files utilizing the GitHub API. \n",
    " - **Prepare** the data:\n",
    " \n",
    "     - *First* by dropping unneeded information in the data set:\n",
    "     \n",
    "         - eliminating all image formatting text inside of angle brackets, \n",
    "         - eliminating all URL links from the text data, \n",
    "         - dropping rows with null values, \n",
    "         - eliminating rows with text in non-Roman characters, and\n",
    "         - selecting only the eliminates whose language is within the top four most common languages.\n",
    "         \n",
    "     - *Second* we clean the remaining data by:\n",
    "          - Performing a basic \"data cleaning\" through converting all text to lower case, normalize unicode strings, encoding/removing ASCII, and eliminating all foreign characters. \n",
    "          - Tokenizing the text data. \n",
    "          - Creating additional columns of stemmed data and lemmatized data. \n",
    "     \n",
    " - **Explore** the text data by addressing the following questions: \n",
    "    - What are the most common words in READme files?\n",
    "    - Does the length of the READme file vary by programming language?\n",
    "    - Do different programming languages use a different number of unique words?\n",
    "    - What does the distribution of IDFs look like for the most common words?\n",
    "    \n",
    " - **Model** the data to classify based on programming language based on the READme file text.\n",
    "     - We use the classification models Naive Bayes, SVC, Decision Tree, Random Forest, K Nearest Neighbors, and Logistic Regression. \n",
    "     - We run each of these models on the stemmed data, the lemmatized data, and the cleaned data. \n",
    "     - Based on the accuracy score on the validate dataset, we choose the best model to run on the test dataset.\n",
    "     \n",
    "### Key Findings\n",
    "\n",
    "We will demonstrate that we can use the K Nearest Neighbors model on the cleaned text data to predict with an accuracy greater than baseline the programming language that corresponds to each READme file. \n",
    "\n",
    "### Recommendation \n",
    "\n",
    "We were able to create a successful model that predicted better than baseline which programming language a READme file was likely to accompany. There are, however, some ways that we may be able to fortify our model.\n",
    "\n",
    "In this project, we began with an initial dataset of 200 READme files. To make our model even more robust in the future, we may explore using a larger sample of READme files. \n",
    "\n",
    "Furthermore, because natural language differs so signficantly by geographic location, it may be useful to build separate classification models based on the repository creator's location. "
   ]
  },
  {
   "cell_type": "markdown",
   "id": "111893e8",
   "metadata": {},
   "source": [
    "## Import Libraries"
   ]
  },
  {
   "cell_type": "code",
   "execution_count": 3,
   "id": "6e54d4fc",
   "metadata": {},
   "outputs": [],
   "source": [
    "#Pandas\n",
    "import pandas as pd\n",
    "\n",
    "#Imports for web scraping and text formatting\n",
    "import re\n",
    "import requests\n",
    "from bs4 import BeautifulSoup\n",
    "import unicodedata\n",
    "import json\n",
    "\n",
    "#Stats \n",
    "from scipy import stats \n",
    "\n",
    "#Numpy\n",
    "import numpy as np\n",
    "\n",
    "#Import repository files\n",
    "import explore \n",
    "import prepare  \n",
    "import acquire  \n",
    "import model as m\n",
    "\n",
    "#Merge\n",
    "from mergedeep import merge\n",
    "\n",
    "import nltk\n",
    "from nltk.tokenize.toktok import ToktokTokenizer\n",
    "from nltk.corpus import stopwords\n",
    "\n",
    "# imports for modeling\n",
    "from sklearn.model_selection import train_test_split\n",
    "\n",
    "#Sparse Matrix Vectorizer\n",
    "from sklearn.feature_extraction.text import CountVectorizer, TfidfVectorizer\n",
    "\n",
    "# imports for modeling\n",
    "from sklearn.model_selection import train_test_split\n",
    "from sklearn.tree import DecisionTreeClassifier\n",
    "from sklearn.naive_bayes import MultinomialNB\n",
    "from sklearn.ensemble import RandomForestClassifier\n",
    "from sklearn.naive_bayes import MultinomialNB\n",
    "from sklearn.svm import LinearSVC\n",
    "from sklearn.neighbors import KNeighborsClassifier\n",
    "from sklearn.metrics import classification_report, confusion_matrix, recall_score, plot_confusion_matrix\n",
    "from sklearn.linear_model import LogisticRegression\n",
    "\n",
    "# imports for visualization\n",
    "import matplotlib.pyplot as plt\n",
    "import matplotlib as mpl\n",
    "from matplotlib import cm # for colormap tools\n",
    "import seaborn as sns\n",
    "from wordcloud import WordCloud, ImageColorGenerator\n",
    "from PIL import Image\n",
    "import seaborn as sns\n",
    "\n",
    "\n",
    "plt.rc('figure', figsize=(13, 7))\n",
    "plt.rc('font', size=16)\n",
    "plt.style.use('seaborn-darkgrid')"
   ]
  },
  {
   "cell_type": "markdown",
   "id": "6e56085d",
   "metadata": {},
   "source": [
    "## Acquire\n",
    "\n",
    "We wil utilize the GitHub API to scrape and extract the text of READme files for each page, as welll as the primary language of the reporistory. \n",
    "\n",
    "Because the HTML text we are extracting is very long we will utilize the `suppress_stdout` function below to prevent the full HTML text from showing in our console. This will prevent our notebook from becoming inundated with HTML text."
   ]
  },
  {
   "cell_type": "code",
   "execution_count": 6,
   "id": "10b48e77",
   "metadata": {},
   "outputs": [],
   "source": [
    "from contextlib import contextmanager\n",
    "import sys, os\n",
    "\n",
    "@contextmanager\n",
    "def suppress_stdout():\n",
    "    with open(os.devnull, \"w\") as devnull:\n",
    "        old_stdout = sys.stdout\n",
    "        sys.stdout = devnull\n",
    "        try:  \n",
    "            yield\n",
    "        finally:\n",
    "            sys.stdout = old_stdout"
   ]
  },
  {
   "cell_type": "code",
   "execution_count": 7,
   "id": "d0801fb9",
   "metadata": {},
   "outputs": [],
   "source": [
    "#Acquire the URLS for the Repositories to explore\n",
    "\n",
    "headers = acquire.headers\n",
    "endpoint = \"https://api.github.com/search/repositories\"\n",
    "query = \"customer in:name\"\n",
    "sort = \"stars\"\n",
    "per_page = 100\n",
    "order = \"desc\"\n",
    "page = 1\n",
    "\n",
    "##Make the request\n",
    "response = requests.get(f\"{endpoint}?q={query}&sort={sort}&per_page={per_page}&order={order}&page={page}\", headers=headers)\n",
    "payload = response.json()\n",
    "#Disable output in console\n",
    "with suppress_stdout():\n",
    "    payload['items']"
   ]
  },
  {
   "cell_type": "code",
   "execution_count": 8,
   "id": "a3eef98f",
   "metadata": {},
   "outputs": [],
   "source": [
    "page = 2\n",
    "\n",
    "##Make the request\n",
    "response = requests.get(f\"{endpoint}?q={query}&sort={sort}&per_page={per_page}&order={order}&page={page}\", headers=headers)\n",
    "payload2 = response.json()\n",
    "#Disable output in console\n",
    "with suppress_stdout():\n",
    "    merge(payload, payload2)\n",
    "    payload['items']"
   ]
  },
  {
   "cell_type": "code",
   "execution_count": 9,
   "id": "26dd6bcb",
   "metadata": {},
   "outputs": [],
   "source": [
    "page = 3\n",
    "\n",
    "##Make the request\n",
    "response = requests.get(f\"{endpoint}?q={query}&sort={sort}&per_page={per_page}&order={order}&page={page}\", headers=headers)\n",
    "payload2 = response.json()\n",
    "with suppress_stdout():\n",
    "    merge(payload, payload2)\n",
    "    payload['items']"
   ]
  },
  {
   "cell_type": "code",
   "execution_count": 10,
   "id": "7c114e7e",
   "metadata": {},
   "outputs": [],
   "source": [
    "#Convert the reponse to a data frame\n",
    "urls_df = pd.DataFrame(payload['items'])"
   ]
  },
  {
   "cell_type": "code",
   "execution_count": 11,
   "id": "fcd29e8b",
   "metadata": {},
   "outputs": [
    {
     "data": {
      "text/plain": [
       "(100, 79)"
      ]
     },
     "execution_count": 11,
     "metadata": {},
     "output_type": "execute_result"
    }
   ],
   "source": [
    "#Check the shape of the dataframe\n",
    "urls_df.shape"
   ]
  },
  {
   "cell_type": "code",
   "execution_count": 12,
   "id": "2ff0bd24",
   "metadata": {},
   "outputs": [
    {
     "data": {
      "text/html": [
       "<div>\n",
       "<style scoped>\n",
       "    .dataframe tbody tr th:only-of-type {\n",
       "        vertical-align: middle;\n",
       "    }\n",
       "\n",
       "    .dataframe tbody tr th {\n",
       "        vertical-align: top;\n",
       "    }\n",
       "\n",
       "    .dataframe thead th {\n",
       "        text-align: right;\n",
       "    }\n",
       "</style>\n",
       "<table border=\"1\" class=\"dataframe\">\n",
       "  <thead>\n",
       "    <tr style=\"text-align: right;\">\n",
       "      <th></th>\n",
       "      <th>id</th>\n",
       "      <th>node_id</th>\n",
       "      <th>name</th>\n",
       "      <th>full_name</th>\n",
       "      <th>private</th>\n",
       "      <th>owner</th>\n",
       "      <th>html_url</th>\n",
       "      <th>description</th>\n",
       "      <th>fork</th>\n",
       "      <th>url</th>\n",
       "      <th>...</th>\n",
       "      <th>allow_forking</th>\n",
       "      <th>is_template</th>\n",
       "      <th>topics</th>\n",
       "      <th>visibility</th>\n",
       "      <th>forks</th>\n",
       "      <th>open_issues</th>\n",
       "      <th>watchers</th>\n",
       "      <th>default_branch</th>\n",
       "      <th>permissions</th>\n",
       "      <th>score</th>\n",
       "    </tr>\n",
       "  </thead>\n",
       "  <tbody>\n",
       "    <tr>\n",
       "      <th>0</th>\n",
       "      <td>118996371</td>\n",
       "      <td>MDEwOlJlcG9zaXRvcnkxMTg5OTYzNzE=</td>\n",
       "      <td>CustomerChurn</td>\n",
       "      <td>smit5490/CustomerChurn</td>\n",
       "      <td>False</td>\n",
       "      <td>{'login': 'smit5490', 'id': 13723626, 'node_id...</td>\n",
       "      <td>https://github.com/smit5490/CustomerChurn</td>\n",
       "      <td>None</td>\n",
       "      <td>False</td>\n",
       "      <td>https://api.github.com/repos/smit5490/Customer...</td>\n",
       "      <td>...</td>\n",
       "      <td>True</td>\n",
       "      <td>False</td>\n",
       "      <td>[]</td>\n",
       "      <td>public</td>\n",
       "      <td>8</td>\n",
       "      <td>4</td>\n",
       "      <td>10</td>\n",
       "      <td>master</td>\n",
       "      <td>{'admin': False, 'maintain': False, 'push': Fa...</td>\n",
       "      <td>1.0</td>\n",
       "    </tr>\n",
       "    <tr>\n",
       "      <th>1</th>\n",
       "      <td>58745539</td>\n",
       "      <td>MDEwOlJlcG9zaXRvcnk1ODc0NTUzOQ==</td>\n",
       "      <td>vc-module-customer</td>\n",
       "      <td>VirtoCommerce/vc-module-customer</td>\n",
       "      <td>False</td>\n",
       "      <td>{'login': 'VirtoCommerce', 'id': 5762443, 'nod...</td>\n",
       "      <td>https://github.com/VirtoCommerce/vc-module-cus...</td>\n",
       "      <td>Contacts management module</td>\n",
       "      <td>False</td>\n",
       "      <td>https://api.github.com/repos/VirtoCommerce/vc-...</td>\n",
       "      <td>...</td>\n",
       "      <td>True</td>\n",
       "      <td>False</td>\n",
       "      <td>[]</td>\n",
       "      <td>public</td>\n",
       "      <td>21</td>\n",
       "      <td>14</td>\n",
       "      <td>10</td>\n",
       "      <td>dev</td>\n",
       "      <td>{'admin': False, 'maintain': False, 'push': Fa...</td>\n",
       "      <td>1.0</td>\n",
       "    </tr>\n",
       "    <tr>\n",
       "      <th>2</th>\n",
       "      <td>62332503</td>\n",
       "      <td>MDEwOlJlcG9zaXRvcnk2MjMzMjUwMw==</td>\n",
       "      <td>customer_portal</td>\n",
       "      <td>SonarSoftware/customer_portal</td>\n",
       "      <td>False</td>\n",
       "      <td>{'login': 'SonarSoftware', 'id': 12124408, 'no...</td>\n",
       "      <td>https://github.com/SonarSoftware/customer_portal</td>\n",
       "      <td>A customer portal for Sonar.</td>\n",
       "      <td>False</td>\n",
       "      <td>https://api.github.com/repos/SonarSoftware/cus...</td>\n",
       "      <td>...</td>\n",
       "      <td>True</td>\n",
       "      <td>False</td>\n",
       "      <td>[]</td>\n",
       "      <td>public</td>\n",
       "      <td>15</td>\n",
       "      <td>1</td>\n",
       "      <td>10</td>\n",
       "      <td>master</td>\n",
       "      <td>{'admin': False, 'maintain': False, 'push': Fa...</td>\n",
       "      <td>1.0</td>\n",
       "    </tr>\n",
       "    <tr>\n",
       "      <th>3</th>\n",
       "      <td>85580569</td>\n",
       "      <td>MDEwOlJlcG9zaXRvcnk4NTU4MDU2OQ==</td>\n",
       "      <td>customer-portal</td>\n",
       "      <td>oroinc/customer-portal</td>\n",
       "      <td>False</td>\n",
       "      <td>{'login': 'oroinc', 'id': 4165718, 'node_id': ...</td>\n",
       "      <td>https://github.com/oroinc/customer-portal</td>\n",
       "      <td>OroCommerce package with customer portal and n...</td>\n",
       "      <td>False</td>\n",
       "      <td>https://api.github.com/repos/oroinc/customer-p...</td>\n",
       "      <td>...</td>\n",
       "      <td>True</td>\n",
       "      <td>False</td>\n",
       "      <td>[]</td>\n",
       "      <td>public</td>\n",
       "      <td>15</td>\n",
       "      <td>5</td>\n",
       "      <td>10</td>\n",
       "      <td>master</td>\n",
       "      <td>{'admin': False, 'maintain': False, 'push': Fa...</td>\n",
       "      <td>1.0</td>\n",
       "    </tr>\n",
       "    <tr>\n",
       "      <th>4</th>\n",
       "      <td>47967191</td>\n",
       "      <td>MDEwOlJlcG9zaXRvcnk0Nzk2NzE5MQ==</td>\n",
       "      <td>customer-scripts</td>\n",
       "      <td>microsoft/customer-scripts</td>\n",
       "      <td>False</td>\n",
       "      <td>{'login': 'microsoft', 'id': 6154722, 'node_id...</td>\n",
       "      <td>https://github.com/microsoft/customer-scripts</td>\n",
       "      <td>Repository of scripts provided frequently to o...</td>\n",
       "      <td>False</td>\n",
       "      <td>https://api.github.com/repos/microsoft/custome...</td>\n",
       "      <td>...</td>\n",
       "      <td>True</td>\n",
       "      <td>False</td>\n",
       "      <td>[]</td>\n",
       "      <td>public</td>\n",
       "      <td>13</td>\n",
       "      <td>1</td>\n",
       "      <td>10</td>\n",
       "      <td>master</td>\n",
       "      <td>{'admin': False, 'maintain': False, 'push': Fa...</td>\n",
       "      <td>1.0</td>\n",
       "    </tr>\n",
       "  </tbody>\n",
       "</table>\n",
       "<p>5 rows × 79 columns</p>\n",
       "</div>"
      ],
      "text/plain": [
       "          id                           node_id                name  \\\n",
       "0  118996371  MDEwOlJlcG9zaXRvcnkxMTg5OTYzNzE=       CustomerChurn   \n",
       "1   58745539  MDEwOlJlcG9zaXRvcnk1ODc0NTUzOQ==  vc-module-customer   \n",
       "2   62332503  MDEwOlJlcG9zaXRvcnk2MjMzMjUwMw==     customer_portal   \n",
       "3   85580569  MDEwOlJlcG9zaXRvcnk4NTU4MDU2OQ==     customer-portal   \n",
       "4   47967191  MDEwOlJlcG9zaXRvcnk0Nzk2NzE5MQ==    customer-scripts   \n",
       "\n",
       "                          full_name  private  \\\n",
       "0            smit5490/CustomerChurn    False   \n",
       "1  VirtoCommerce/vc-module-customer    False   \n",
       "2     SonarSoftware/customer_portal    False   \n",
       "3            oroinc/customer-portal    False   \n",
       "4        microsoft/customer-scripts    False   \n",
       "\n",
       "                                               owner  \\\n",
       "0  {'login': 'smit5490', 'id': 13723626, 'node_id...   \n",
       "1  {'login': 'VirtoCommerce', 'id': 5762443, 'nod...   \n",
       "2  {'login': 'SonarSoftware', 'id': 12124408, 'no...   \n",
       "3  {'login': 'oroinc', 'id': 4165718, 'node_id': ...   \n",
       "4  {'login': 'microsoft', 'id': 6154722, 'node_id...   \n",
       "\n",
       "                                            html_url  \\\n",
       "0          https://github.com/smit5490/CustomerChurn   \n",
       "1  https://github.com/VirtoCommerce/vc-module-cus...   \n",
       "2   https://github.com/SonarSoftware/customer_portal   \n",
       "3          https://github.com/oroinc/customer-portal   \n",
       "4      https://github.com/microsoft/customer-scripts   \n",
       "\n",
       "                                         description   fork  \\\n",
       "0                                               None  False   \n",
       "1                         Contacts management module  False   \n",
       "2                       A customer portal for Sonar.  False   \n",
       "3  OroCommerce package with customer portal and n...  False   \n",
       "4  Repository of scripts provided frequently to o...  False   \n",
       "\n",
       "                                                 url  ... allow_forking  \\\n",
       "0  https://api.github.com/repos/smit5490/Customer...  ...          True   \n",
       "1  https://api.github.com/repos/VirtoCommerce/vc-...  ...          True   \n",
       "2  https://api.github.com/repos/SonarSoftware/cus...  ...          True   \n",
       "3  https://api.github.com/repos/oroinc/customer-p...  ...          True   \n",
       "4  https://api.github.com/repos/microsoft/custome...  ...          True   \n",
       "\n",
       "  is_template topics visibility forks open_issues watchers default_branch  \\\n",
       "0       False     []     public     8           4       10         master   \n",
       "1       False     []     public    21          14       10            dev   \n",
       "2       False     []     public    15           1       10         master   \n",
       "3       False     []     public    15           5       10         master   \n",
       "4       False     []     public    13           1       10         master   \n",
       "\n",
       "                                         permissions score  \n",
       "0  {'admin': False, 'maintain': False, 'push': Fa...   1.0  \n",
       "1  {'admin': False, 'maintain': False, 'push': Fa...   1.0  \n",
       "2  {'admin': False, 'maintain': False, 'push': Fa...   1.0  \n",
       "3  {'admin': False, 'maintain': False, 'push': Fa...   1.0  \n",
       "4  {'admin': False, 'maintain': False, 'push': Fa...   1.0  \n",
       "\n",
       "[5 rows x 79 columns]"
      ]
     },
     "execution_count": 12,
     "metadata": {},
     "output_type": "execute_result"
    }
   ],
   "source": [
    "urls_df.head()"
   ]
  },
  {
   "cell_type": "code",
   "execution_count": 13,
   "id": "a24f5e30",
   "metadata": {},
   "outputs": [
    {
     "data": {
      "text/plain": [
       "['smit5490/CustomerChurn',\n",
       " 'VirtoCommerce/vc-module-customer',\n",
       " 'SonarSoftware/customer_portal',\n",
       " 'oroinc/customer-portal',\n",
       " 'microsoft/customer-scripts',\n",
       " 'correooke/example-customers-app',\n",
       " 'darkdreamingdan/mlnd-customer-segments',\n",
       " 'emilybache/CustomerSync-Refactoring-Kata',\n",
       " 'bestkao/customer_segments',\n",
       " 'devmentors/Pacco.Services.Customers',\n",
       " 'toshi-k/kaggle-santander-customer-satisfaction',\n",
       " 'cometchat-pro-tutorials/react-customer-support-live-widget',\n",
       " 'celestinhermez/sparkify_customer_churn',\n",
       " 'Ifihan/customer-management-app',\n",
       " 'skioo/django-customer-billing',\n",
       " 'anqi666/Customer-Data-Analysis',\n",
       " 'ho-nl/magento1-Ho_Customer',\n",
       " 'mutedblues/Customer-Success-Management',\n",
       " 'aryashah2k/Datalogy-Customer-Segmentation-Data-Science-Internship',\n",
       " 'Horizon733/customer-care-chatbot',\n",
       " 'dserradji/reactive-customer-service',\n",
       " 'Ashniu123/nestjs-customer-order-eventsourcing-cqrs',\n",
       " 'M-R-K-Development/bc-customer-plugin',\n",
       " 'melihbodr/Sentiment_analysis_to_customer_comments',\n",
       " 'nd009/creating_customer_segments',\n",
       " 'digitalcreations/CustomerIOSharp',\n",
       " 'fnneves/customer_retention',\n",
       " 'Pranov1984/Prediction-of-customer-propensity-to-churn',\n",
       " 'magekey/module-customer-restriction',\n",
       " 'typesafehub/customers',\n",
       " 'aws-samples/build-a-360-degree-customer-view-with-aws',\n",
       " 'twilio-professional-services/example-customer-end-chat',\n",
       " 'cloudteams/CustomerPlatform',\n",
       " 'eventuate-examples/eventuate-micronaut-examples-customers-and-orders',\n",
       " 'CasiaFan/customer_lifetime_value_prediction',\n",
       " 'linwt/Intelligent-Customer-Service',\n",
       " 'wuzixuan1104/customerService',\n",
       " 'Wanghongchao12138/CustomerCollectionView',\n",
       " 'im3x/weCustomer',\n",
       " 'thomasnield/customer-wait-queue-simulation',\n",
       " 'mesudepolat/CUSTOMER_LIFETIME_VALUE',\n",
       " 'erenonal/K-means_customer_segmentation',\n",
       " 'meteorhacks/meteor-customer-io',\n",
       " 'latonaio/data-interface-for-salesforce-customer',\n",
       " 'apache/fineract-cn-customer',\n",
       " 'watson-developer-cloud/customer-engagement-nodejs',\n",
       " 'szhua/CustomerServiceAssistant',\n",
       " 'deepansh27/CustomerSegmentation',\n",
       " 'zhuangjiesen/CustomerAndProvider',\n",
       " 'krishnaik06/Predict_customer_Will_Leave_the-Bank',\n",
       " 'Hari365/customer-segmentation-python',\n",
       " 'IBM/run-campaigns-target-customers',\n",
       " 'Rishabh42/Ethereum-customer-loyalty-program',\n",
       " 'saikrithik/Janatahack-Customer-Segmentation',\n",
       " 'tuyennn/magento2-change-customer-password',\n",
       " 'iamar7/Mining-and-Summarising-Customer-Review',\n",
       " 'php-cuong/magento2-customer-address-autocomplete',\n",
       " 'pranaymodukuru/Bertelsmann-Arvato-customer-segmentation',\n",
       " 'dospuntocero/CustomerQuestions',\n",
       " 'skyverge/woocommerce-new-customer-report',\n",
       " 'customerio/customerio-php',\n",
       " 't-varun/Customer-Analytics',\n",
       " 'Dashride/mongoose-stripe-customers',\n",
       " 'ouissa/Customer_Service_Messenger_Bot',\n",
       " 'dbashyal/Magento-Customer-Attributes',\n",
       " 'Vetrivel-PS/Janatahack-Customer-Segmentation',\n",
       " 'salinaaaaaa/customer-lifetime-value-contractual-or-non-contractual-relationship',\n",
       " 'ouyangfeng/CustomerViewGroup',\n",
       " 'afaq-ahmad/Gender-and-Age-Detection-based-Customer-Tracking-Classification-on-Raspberry-pi',\n",
       " 'bandiang2/Customer-Churn',\n",
       " 'dwebdevcore/client_portal_customer_FE',\n",
       " 'aishwarya-pawar/Bank-Customer-Churn-Analysis-',\n",
       " 'mesudepolat/Customer-Lifetime-Value-Prediction',\n",
       " 'anchorP34/Starbucks-Customer-Clusters',\n",
       " 'serhatyazicioglu/Customer-Relationship-Management',\n",
       " 'SooyeonWon/customer_analytics_fmcg',\n",
       " 'shwetapai/Predicting-Customer-Churn-for-a-Telecom-Company',\n",
       " 'FOHEART/U3D_Demo_MarketCustomer',\n",
       " 'latonaio/data-interface-for-salesforce-customer-bulk-get',\n",
       " 'ozzael-codes/CustomerChurnAnalysis',\n",
       " 'udacity/MLND_CN_P3_Customer_Segments',\n",
       " 'jbossdemocentral/bpms-customer-evaluation-demo',\n",
       " 'alfredsasko/Customer-Journey-Analytics',\n",
       " 'naseemqota/CustomerOrderSearch',\n",
       " 'FaisalAl-Tameemi/ml-customer-segments',\n",
       " 'archd3sai/Customer-Survival-Analysis-and-Churn-Prediction',\n",
       " 'Arjun-Mota/customer-churn-prediction',\n",
       " 'SohelRaja/Customer-Churn-Analysis',\n",
       " 'Roc-J/loss_customers',\n",
       " 'collindching/Olist-customer-churn',\n",
       " 'jalajthanaki/Customer_churn_analysis',\n",
       " 'bradtraversy/aurelia_customer_manager',\n",
       " 'rakeshmagento/magento2-create-order-for-guest-customer-rest-api',\n",
       " 'ankitsingh1240/CUSTOMER-CHURN-PREDICTION',\n",
       " 'prakhardogra921/Clustering-Analysis-on-customers-of-a-wholesale-distributor',\n",
       " 'Nexmo/ruby-sms-customer-engagement',\n",
       " 'Rajneesh-Tiwari/Kaggle_santander-customer-transaction-prediction',\n",
       " 'Shubha23/Exploratory-Data-Analysis-Customer-Churn-Prediction',\n",
       " 'devinsays/woocommerce-customer-source',\n",
       " 'iateadonut/magento_copy_customer']"
      ]
     },
     "execution_count": 13,
     "metadata": {},
     "output_type": "execute_result"
    }
   ],
   "source": [
    "#Get a list of the full_name for the urls. Saved to acquire seperate file as repos and assigned to a variable\n",
    "urls_df.full_name.to_list()"
   ]
  },
  {
   "cell_type": "code",
   "execution_count": 14,
   "id": "56609a86",
   "metadata": {},
   "outputs": [
    {
     "data": {
      "text/html": [
       "<div>\n",
       "<style scoped>\n",
       "    .dataframe tbody tr th:only-of-type {\n",
       "        vertical-align: middle;\n",
       "    }\n",
       "\n",
       "    .dataframe tbody tr th {\n",
       "        vertical-align: top;\n",
       "    }\n",
       "\n",
       "    .dataframe thead th {\n",
       "        text-align: right;\n",
       "    }\n",
       "</style>\n",
       "<table border=\"1\" class=\"dataframe\">\n",
       "  <thead>\n",
       "    <tr style=\"text-align: right;\">\n",
       "      <th></th>\n",
       "      <th>repo</th>\n",
       "      <th>language</th>\n",
       "      <th>readme_contents</th>\n",
       "    </tr>\n",
       "  </thead>\n",
       "  <tbody>\n",
       "    <tr>\n",
       "      <th>0</th>\n",
       "      <td>gongdelu/E-commerce-Customer-service-robot</td>\n",
       "      <td>Jupyter Notebook</td>\n",
       "      <td># E-commerce-Customer-service-robot\\n电商多轮对话客服机...</td>\n",
       "    </tr>\n",
       "    <tr>\n",
       "      <th>1</th>\n",
       "      <td>Azure/fta-customerfacingapps</td>\n",
       "      <td>C#</td>\n",
       "      <td># FastTrack for Azure\\n\\nSee our [FastTrack fo...</td>\n",
       "    </tr>\n",
       "    <tr>\n",
       "      <th>2</th>\n",
       "      <td>ELMAHDI-AR/CustomerAuthentication-With-ASP.NET...</td>\n",
       "      <td>PowerShell</td>\n",
       "      <td></td>\n",
       "    </tr>\n",
       "    <tr>\n",
       "      <th>3</th>\n",
       "      <td>kpei/Customer-Analytics</td>\n",
       "      <td>Jupyter Notebook</td>\n",
       "      <td># Customer Analytics iPython Notebook\\nSee htt...</td>\n",
       "    </tr>\n",
       "    <tr>\n",
       "      <th>4</th>\n",
       "      <td>Sylius/CustomerOrderCancellationPlugin</td>\n",
       "      <td>PHP</td>\n",
       "      <td>&gt; :warning: **BEWARE!**\\n&gt; This repository has...</td>\n",
       "    </tr>\n",
       "  </tbody>\n",
       "</table>\n",
       "</div>"
      ],
      "text/plain": [
       "                                                repo          language  \\\n",
       "0         gongdelu/E-commerce-Customer-service-robot  Jupyter Notebook   \n",
       "1                       Azure/fta-customerfacingapps                C#   \n",
       "2  ELMAHDI-AR/CustomerAuthentication-With-ASP.NET...        PowerShell   \n",
       "3                            kpei/Customer-Analytics  Jupyter Notebook   \n",
       "4             Sylius/CustomerOrderCancellationPlugin               PHP   \n",
       "\n",
       "                                     readme_contents  \n",
       "0  # E-commerce-Customer-service-robot\\n电商多轮对话客服机...  \n",
       "1  # FastTrack for Azure\\n\\nSee our [FastTrack fo...  \n",
       "2                                                     \n",
       "3  # Customer Analytics iPython Notebook\\nSee htt...  \n",
       "4  > :warning: **BEWARE!**\\n> This repository has...  "
      ]
     },
     "execution_count": 14,
     "metadata": {},
     "output_type": "execute_result"
    }
   ],
   "source": [
    "#Use the scrape github function from the acquire module to acquire the dataframe containing the names of the\n",
    "#repositories and the contents of the readme files\n",
    "df = acquire.scrape_github_data()\n",
    "\n",
    "#convert the data into a dataframe\n",
    "df = pd.DataFrame(df)\n",
    "df.head()"
   ]
  },
  {
   "cell_type": "code",
   "execution_count": 15,
   "id": "9801da68",
   "metadata": {},
   "outputs": [],
   "source": [
    "# read in the json file generated by compiling the acquire.py file\n",
    "df = pd.read_json('data2.json')"
   ]
  },
  {
   "cell_type": "code",
   "execution_count": 16,
   "id": "a2b3423a",
   "metadata": {},
   "outputs": [
    {
     "data": {
      "text/plain": [
       "200"
      ]
     },
     "execution_count": 16,
     "metadata": {},
     "output_type": "execute_result"
    }
   ],
   "source": [
    "len(df)"
   ]
  },
  {
   "cell_type": "code",
   "execution_count": 17,
   "id": "d060f82e",
   "metadata": {},
   "outputs": [
    {
     "data": {
      "text/html": [
       "<div>\n",
       "<style scoped>\n",
       "    .dataframe tbody tr th:only-of-type {\n",
       "        vertical-align: middle;\n",
       "    }\n",
       "\n",
       "    .dataframe tbody tr th {\n",
       "        vertical-align: top;\n",
       "    }\n",
       "\n",
       "    .dataframe thead th {\n",
       "        text-align: right;\n",
       "    }\n",
       "</style>\n",
       "<table border=\"1\" class=\"dataframe\">\n",
       "  <thead>\n",
       "    <tr style=\"text-align: right;\">\n",
       "      <th></th>\n",
       "      <th>repo</th>\n",
       "      <th>language</th>\n",
       "      <th>readme_contents</th>\n",
       "    </tr>\n",
       "  </thead>\n",
       "  <tbody>\n",
       "    <tr>\n",
       "      <th>0</th>\n",
       "      <td>gongdelu/E-commerce-Customer-service-robot</td>\n",
       "      <td>Jupyter Notebook</td>\n",
       "      <td># E-commerce-Customer-service-robot\\n电商多轮对话客服机...</td>\n",
       "    </tr>\n",
       "    <tr>\n",
       "      <th>1</th>\n",
       "      <td>Azure/fta-customerfacingapps</td>\n",
       "      <td>C#</td>\n",
       "      <td># FastTrack for Azure\\n\\nSee our [FastTrack fo...</td>\n",
       "    </tr>\n",
       "    <tr>\n",
       "      <th>2</th>\n",
       "      <td>ELMAHDI-AR/CustomerAuthentication-With-ASP.NET...</td>\n",
       "      <td>PowerShell</td>\n",
       "      <td></td>\n",
       "    </tr>\n",
       "    <tr>\n",
       "      <th>3</th>\n",
       "      <td>kpei/Customer-Analytics</td>\n",
       "      <td>Jupyter Notebook</td>\n",
       "      <td># Customer Analytics iPython Notebook\\nSee htt...</td>\n",
       "    </tr>\n",
       "    <tr>\n",
       "      <th>4</th>\n",
       "      <td>Sylius/CustomerOrderCancellationPlugin</td>\n",
       "      <td>PHP</td>\n",
       "      <td>&gt; :warning: **BEWARE!**\\n&gt; This repository has...</td>\n",
       "    </tr>\n",
       "  </tbody>\n",
       "</table>\n",
       "</div>"
      ],
      "text/plain": [
       "                                                repo          language  \\\n",
       "0         gongdelu/E-commerce-Customer-service-robot  Jupyter Notebook   \n",
       "1                       Azure/fta-customerfacingapps                C#   \n",
       "2  ELMAHDI-AR/CustomerAuthentication-With-ASP.NET...        PowerShell   \n",
       "3                            kpei/Customer-Analytics  Jupyter Notebook   \n",
       "4             Sylius/CustomerOrderCancellationPlugin               PHP   \n",
       "\n",
       "                                     readme_contents  \n",
       "0  # E-commerce-Customer-service-robot\\n电商多轮对话客服机...  \n",
       "1  # FastTrack for Azure\\n\\nSee our [FastTrack fo...  \n",
       "2                                                     \n",
       "3  # Customer Analytics iPython Notebook\\nSee htt...  \n",
       "4  > :warning: **BEWARE!**\\n> This repository has...  "
      ]
     },
     "execution_count": 17,
     "metadata": {},
     "output_type": "execute_result"
    }
   ],
   "source": [
    "df.head()"
   ]
  },
  {
   "cell_type": "markdown",
   "id": "52aba960",
   "metadata": {},
   "source": [
    "## Prepare\n",
    "\n",
    "To prepare our data, we will perform two tasks. First, we will drop unneeded rows in our dataset. Second, we will clean the text, as well as create columns for stemmed and lemmatized text data. For more information about our data preparation process, please see the `prepare.py` file in this repository. "
   ]
  },
  {
   "cell_type": "code",
   "execution_count": 18,
   "id": "6fe56eb8",
   "metadata": {},
   "outputs": [],
   "source": [
    "# do drop unneeded data first then prep\n",
    "df = prepare.drop_unneeded_data(df)"
   ]
  },
  {
   "cell_type": "code",
   "execution_count": 19,
   "id": "586e9698",
   "metadata": {},
   "outputs": [
    {
     "data": {
      "text/plain": [
       "136"
      ]
     },
     "execution_count": 19,
     "metadata": {},
     "output_type": "execute_result"
    }
   ],
   "source": [
    "len(df)"
   ]
  },
  {
   "cell_type": "markdown",
   "id": "c9bc6c8d",
   "metadata": {},
   "source": [
    "We have eliminated 64 rows from our dataset. Now we are ready to clean, stem, and lemmatize the text data."
   ]
  },
  {
   "cell_type": "code",
   "execution_count": 21,
   "id": "88071aa8",
   "metadata": {},
   "outputs": [],
   "source": [
    "df = prepare.prepare_nlp_data(df, content = 'readme_contents')"
   ]
  },
  {
   "cell_type": "code",
   "execution_count": 22,
   "id": "fa64f08f",
   "metadata": {},
   "outputs": [
    {
     "data": {
      "text/html": [
       "<div>\n",
       "<style scoped>\n",
       "    .dataframe tbody tr th:only-of-type {\n",
       "        vertical-align: middle;\n",
       "    }\n",
       "\n",
       "    .dataframe tbody tr th {\n",
       "        vertical-align: top;\n",
       "    }\n",
       "\n",
       "    .dataframe thead th {\n",
       "        text-align: right;\n",
       "    }\n",
       "</style>\n",
       "<table border=\"1\" class=\"dataframe\">\n",
       "  <thead>\n",
       "    <tr style=\"text-align: right;\">\n",
       "      <th></th>\n",
       "      <th>repo</th>\n",
       "      <th>language</th>\n",
       "      <th>readme_contents</th>\n",
       "      <th>clean</th>\n",
       "      <th>stemmed</th>\n",
       "      <th>lemmatized</th>\n",
       "    </tr>\n",
       "  </thead>\n",
       "  <tbody>\n",
       "    <tr>\n",
       "      <th>0</th>\n",
       "      <td>gongdelu/E-commerce-Customer-service-robot</td>\n",
       "      <td>Jupyter Notebook</td>\n",
       "      <td>EcommerceCustomerservicerobot    SeqSeqGRUGRU...</td>\n",
       "      <td>ecommercecustomerservicerobot seqseqgrugruteac...</td>\n",
       "      <td>ecommercecustomerservicerobot seqseqgrugruteac...</td>\n",
       "      <td>ecommercecustomerservicerobot seqseqgrugruteac...</td>\n",
       "    </tr>\n",
       "    <tr>\n",
       "      <th>1</th>\n",
       "      <td>kpei/Customer-Analytics</td>\n",
       "      <td>Jupyter Notebook</td>\n",
       "      <td>Customer Analytics iPython Notebook See</td>\n",
       "      <td>customer analytics ipython notebook see</td>\n",
       "      <td>custom analyt ipython notebook see</td>\n",
       "      <td>customer analytics ipython notebook see</td>\n",
       "    </tr>\n",
       "    <tr>\n",
       "      <th>2</th>\n",
       "      <td>Sylius/CustomerOrderCancellationPlugin</td>\n",
       "      <td>PHP</td>\n",
       "      <td>warning BEWARE  This repository has been depr...</td>\n",
       "      <td>warning beware repository deprecated maintaine...</td>\n",
       "      <td>warn bewar repositori deprec maintain evolv sy...</td>\n",
       "      <td>warning beware repository deprecated maintaine...</td>\n",
       "    </tr>\n",
       "    <tr>\n",
       "      <th>3</th>\n",
       "      <td>optiflow/rfm-customer-segmentation</td>\n",
       "      <td>Jupyter Notebook</td>\n",
       "      <td>Recency Frequency and Monetary RFM Customer S...</td>\n",
       "      <td>recency frequency monetary rfm customer segmen...</td>\n",
       "      <td>recenc frequenc monetari rfm custom segment us...</td>\n",
       "      <td>recency frequency monetary rfm customer segmen...</td>\n",
       "    </tr>\n",
       "    <tr>\n",
       "      <th>4</th>\n",
       "      <td>Sylius/CustomerReorderPlugin</td>\n",
       "      <td>PHP</td>\n",
       "      <td>warning BEWARE  This repository has been depr...</td>\n",
       "      <td>warning beware repository deprecated maintaine...</td>\n",
       "      <td>warn bewar repositori deprec maintain evolv sy...</td>\n",
       "      <td>warning beware repository deprecated maintaine...</td>\n",
       "    </tr>\n",
       "  </tbody>\n",
       "</table>\n",
       "</div>"
      ],
      "text/plain": [
       "                                         repo          language  \\\n",
       "0  gongdelu/E-commerce-Customer-service-robot  Jupyter Notebook   \n",
       "1                     kpei/Customer-Analytics  Jupyter Notebook   \n",
       "2      Sylius/CustomerOrderCancellationPlugin               PHP   \n",
       "3          optiflow/rfm-customer-segmentation  Jupyter Notebook   \n",
       "4                Sylius/CustomerReorderPlugin               PHP   \n",
       "\n",
       "                                     readme_contents  \\\n",
       "0   EcommerceCustomerservicerobot    SeqSeqGRUGRU...   \n",
       "1            Customer Analytics iPython Notebook See   \n",
       "2   warning BEWARE  This repository has been depr...   \n",
       "3   Recency Frequency and Monetary RFM Customer S...   \n",
       "4   warning BEWARE  This repository has been depr...   \n",
       "\n",
       "                                               clean  \\\n",
       "0  ecommercecustomerservicerobot seqseqgrugruteac...   \n",
       "1            customer analytics ipython notebook see   \n",
       "2  warning beware repository deprecated maintaine...   \n",
       "3  recency frequency monetary rfm customer segmen...   \n",
       "4  warning beware repository deprecated maintaine...   \n",
       "\n",
       "                                             stemmed  \\\n",
       "0  ecommercecustomerservicerobot seqseqgrugruteac...   \n",
       "1                 custom analyt ipython notebook see   \n",
       "2  warn bewar repositori deprec maintain evolv sy...   \n",
       "3  recenc frequenc monetari rfm custom segment us...   \n",
       "4  warn bewar repositori deprec maintain evolv sy...   \n",
       "\n",
       "                                          lemmatized  \n",
       "0  ecommercecustomerservicerobot seqseqgrugruteac...  \n",
       "1            customer analytics ipython notebook see  \n",
       "2  warning beware repository deprecated maintaine...  \n",
       "3  recency frequency monetary rfm customer segmen...  \n",
       "4  warning beware repository deprecated maintaine...  "
      ]
     },
     "execution_count": 22,
     "metadata": {},
     "output_type": "execute_result"
    }
   ],
   "source": [
    "df.head()"
   ]
  },
  {
   "cell_type": "markdown",
   "id": "cfdeef51",
   "metadata": {},
   "source": [
    "## Explore\n",
    "\n",
    "In this section, we will address the following questions: \n",
    " - What are the most common words in READme files?\n",
    " - Does the length of the READme vary by programming language?\n",
    " - Do different programming languages use a different number of unique words?\n",
    " - What does the distribution of IDFs look like for the most common words?"
   ]
  },
  {
   "cell_type": "markdown",
   "id": "acbb1147",
   "metadata": {},
   "source": [
    "### What are the most common words in READme files?\n",
    "\n",
    "We will create a single string of our text data so that we can determine what the most frequently used words in this string are. "
   ]
  },
  {
   "cell_type": "code",
   "execution_count": 23,
   "id": "b12f10fd",
   "metadata": {},
   "outputs": [],
   "source": [
    "words = ' '.join(df.stemmed)"
   ]
  },
  {
   "cell_type": "code",
   "execution_count": 24,
   "id": "c79b5704",
   "metadata": {},
   "outputs": [
    {
     "data": {
      "text/plain": [
       "'ecommercecustomerservicerobot seqseqgrugruteach forc torch jieba numpi custom analyt ipython notebook see warn bewar repositori deprec maintain evolv syliu team still use compat syliu version risk bug fix custom order cancel plugin plugin allow custom cancel place order process screenshot show custom order page cancel buttonsdocsscreenshot png busi valu far custom chang mind alreadi place order administr cancel order howev ask question cant custom cancel order yet paid come custom order cancel plugin allow cancel unpaid order straight order histori view instal bewar instal instruct assum your use symfoni flex dont take look legaci instal instructiondocslegacyinstal md howev strongli encourag use symfoni flex much quicker instal plugin requir compos bash compos requir syliuscustomerordercancellationplugin rememb allow commun recip compos config extra symfoni allowcontrib true plugin instal process extens point custom order cancel plugin use order entiti deriv syliuscorebundl well alreadi defin state default plugin implement assum order cancel custom payment state awaitingpay shipment state equal readi condit easili chang creat custom implement customerordercancellationcheckerinterfac decor exist one secur issu think found secur issu pleas use issu tracker post publicli instead secur issu must sent securitysyliu com recenc frequenc monetari rfm custom segment use kmean articl explain detail approach publish dataset dataset obtain uci machin learn licens content repositori cover'"
      ]
     },
     "execution_count": 24,
     "metadata": {},
     "output_type": "execute_result"
    }
   ],
   "source": [
    "words[0:1500]"
   ]
  },
  {
   "cell_type": "code",
   "execution_count": 25,
   "id": "0347f3df",
   "metadata": {},
   "outputs": [],
   "source": [
    "frequencies = pd.Series(words.split()).value_counts()"
   ]
  },
  {
   "cell_type": "code",
   "execution_count": 26,
   "id": "c1400a32",
   "metadata": {},
   "outputs": [
    {
     "data": {
      "text/plain": [
       "custom      923\n",
       "data        424\n",
       "use         407\n",
       "model       258\n",
       "creat       209\n",
       "instal      169\n",
       "project     151\n",
       "run         150\n",
       "file        150\n",
       "featur      147\n",
       "new         144\n",
       "notebook    136\n",
       "account     133\n",
       "magento     128\n",
       "set         127\n",
       "segment     115\n",
       "png         110\n",
       "valu        107\n",
       "code        106\n",
       "churn       106\n",
       "select      105\n",
       "follow      103\n",
       "product     103\n",
       "predict     102\n",
       "click       101\n",
       "servic       95\n",
       "login        94\n",
       "one          93\n",
       "market       92\n",
       "need         91\n",
       "compani      90\n",
       "deploy       90\n",
       "email        90\n",
       "test         89\n",
       "provid       89\n",
       "inform       89\n",
       "requir       89\n",
       "page         89\n",
       "name         88\n",
       "approv       87\n",
       "view         86\n",
       "time         85\n",
       "function     85\n",
       "get          82\n",
       "also         82\n",
       "add          81\n",
       "applic       80\n",
       "api          80\n",
       "configur     79\n",
       "admin        79\n",
       "dtype: int64"
      ]
     },
     "execution_count": 26,
     "metadata": {},
     "output_type": "execute_result"
    }
   ],
   "source": [
    "frequencies.head(50)"
   ]
  },
  {
   "cell_type": "code",
   "execution_count": 27,
   "id": "888f584d",
   "metadata": {},
   "outputs": [],
   "source": [
    "top_20_words = frequencies.head(20)"
   ]
  },
  {
   "cell_type": "code",
   "execution_count": 28,
   "id": "02751f69",
   "metadata": {},
   "outputs": [
    {
     "data": {
      "image/png": "[encoded data removed]",
      "text/plain": [
       "<Figure size 936x504 with 1 Axes>"
      ]
     },
     "metadata": {},
     "output_type": "display_data"
    }
   ],
   "source": [
    "#Graph Most Common Words\n",
    "top_20_words.plot.barh()\n",
    "title = plt.title('Top 20 Most Common Words')"
   ]
  },
  {
   "cell_type": "code",
   "execution_count": 29,
   "id": "403cb2f8",
   "metadata": {},
   "outputs": [
    {
     "data": {
      "image/png": "[encoded data removed]",
      "text/plain": [
       "<Figure size 576x288 with 1 Axes>"
      ]
     },
     "metadata": {},
     "output_type": "display_data"
    }
   ],
   "source": [
    "data = {k: v for k, v in top_20_words.to_dict().items()}\n",
    "img = WordCloud(background_color='white', width=800, height=400).generate_from_frequencies(data)\n",
    "plt.figure(figsize=(8, 4))\n",
    "plt.imshow(img)\n",
    "plt.axis('off')\n",
    "plt.title(\"Top 20 Most Common Words Cloud\")\n",
    "plt.show()"
   ]
  },
  {
   "cell_type": "markdown",
   "id": "f2c09c74",
   "metadata": {},
   "source": [
    "### Does the length of the READme file differ by programming language?\n",
    "\n",
    "To answer this question, we will create a new column in the DataFrame for the length of each file. To create this column, we first create a list of each READme file's length."
   ]
  },
  {
   "cell_type": "code",
   "execution_count": 45,
   "id": "142e6fdc",
   "metadata": {},
   "outputs": [],
   "source": [
    "#Create empty list\n",
    "length_readme = []\n",
    "#Loop through the DataFrame READme files\n",
    "for i in range(len(df)):\n",
    "    length_readme.append(len(df.readme_contents[i]))"
   ]
  },
  {
   "cell_type": "code",
   "execution_count": 46,
   "id": "96c7cc35",
   "metadata": {},
   "outputs": [],
   "source": [
    "#Convert list of READme lengths into DataFrame\n",
    "length_readme_df = pd.DataFrame(length_readme)"
   ]
  },
  {
   "cell_type": "code",
   "execution_count": 47,
   "id": "04f2c838",
   "metadata": {},
   "outputs": [],
   "source": [
    "#Merge main DataFrame and READme length DataFrame\n",
    "df_with_length = pd.concat([df, length_readme_df], axis = 1)"
   ]
  },
  {
   "cell_type": "code",
   "execution_count": 48,
   "id": "aa060f20",
   "metadata": {},
   "outputs": [
    {
     "data": {
      "text/html": [
       "<div>\n",
       "<style scoped>\n",
       "    .dataframe tbody tr th:only-of-type {\n",
       "        vertical-align: middle;\n",
       "    }\n",
       "\n",
       "    .dataframe tbody tr th {\n",
       "        vertical-align: top;\n",
       "    }\n",
       "\n",
       "    .dataframe thead th {\n",
       "        text-align: right;\n",
       "    }\n",
       "</style>\n",
       "<table border=\"1\" class=\"dataframe\">\n",
       "  <thead>\n",
       "    <tr style=\"text-align: right;\">\n",
       "      <th></th>\n",
       "      <th>repo</th>\n",
       "      <th>language</th>\n",
       "      <th>readme_contents</th>\n",
       "      <th>clean</th>\n",
       "      <th>stemmed</th>\n",
       "      <th>lemmatized</th>\n",
       "      <th>0</th>\n",
       "    </tr>\n",
       "  </thead>\n",
       "  <tbody>\n",
       "    <tr>\n",
       "      <th>0</th>\n",
       "      <td>gongdelu/E-commerce-Customer-service-robot</td>\n",
       "      <td>Jupyter Notebook</td>\n",
       "      <td>EcommerceCustomerservicerobot    SeqSeqGRUGRU...</td>\n",
       "      <td>ecommercecustomerservicerobot seqseqgrugruteac...</td>\n",
       "      <td>ecommercecustomerservicerobot seqseqgrugruteac...</td>\n",
       "      <td>ecommercecustomerservicerobot seqseqgrugruteac...</td>\n",
       "      <td>83</td>\n",
       "    </tr>\n",
       "    <tr>\n",
       "      <th>1</th>\n",
       "      <td>kpei/Customer-Analytics</td>\n",
       "      <td>Jupyter Notebook</td>\n",
       "      <td>Customer Analytics iPython Notebook See</td>\n",
       "      <td>customer analytics ipython notebook see</td>\n",
       "      <td>custom analyt ipython notebook see</td>\n",
       "      <td>customer analytics ipython notebook see</td>\n",
       "      <td>40</td>\n",
       "    </tr>\n",
       "    <tr>\n",
       "      <th>2</th>\n",
       "      <td>Sylius/CustomerOrderCancellationPlugin</td>\n",
       "      <td>PHP</td>\n",
       "      <td>warning BEWARE  This repository has been depr...</td>\n",
       "      <td>warning beware repository deprecated maintaine...</td>\n",
       "      <td>warn bewar repositori deprec maintain evolv sy...</td>\n",
       "      <td>warning beware repository deprecated maintaine...</td>\n",
       "      <td>1901</td>\n",
       "    </tr>\n",
       "    <tr>\n",
       "      <th>3</th>\n",
       "      <td>optiflow/rfm-customer-segmentation</td>\n",
       "      <td>Jupyter Notebook</td>\n",
       "      <td>Recency Frequency and Monetary RFM Customer S...</td>\n",
       "      <td>recency frequency monetary rfm customer segmen...</td>\n",
       "      <td>recenc frequenc monetari rfm custom segment us...</td>\n",
       "      <td>recency frequency monetary rfm customer segmen...</td>\n",
       "      <td>255</td>\n",
       "    </tr>\n",
       "    <tr>\n",
       "      <th>4</th>\n",
       "      <td>Sylius/CustomerReorderPlugin</td>\n",
       "      <td>PHP</td>\n",
       "      <td>warning BEWARE  This repository has been depr...</td>\n",
       "      <td>warning beware repository deprecated maintaine...</td>\n",
       "      <td>warn bewar repositori deprec maintain evolv sy...</td>\n",
       "      <td>warning beware repository deprecated maintaine...</td>\n",
       "      <td>2764</td>\n",
       "    </tr>\n",
       "  </tbody>\n",
       "</table>\n",
       "</div>"
      ],
      "text/plain": [
       "                                         repo          language  \\\n",
       "0  gongdelu/E-commerce-Customer-service-robot  Jupyter Notebook   \n",
       "1                     kpei/Customer-Analytics  Jupyter Notebook   \n",
       "2      Sylius/CustomerOrderCancellationPlugin               PHP   \n",
       "3          optiflow/rfm-customer-segmentation  Jupyter Notebook   \n",
       "4                Sylius/CustomerReorderPlugin               PHP   \n",
       "\n",
       "                                     readme_contents  \\\n",
       "0   EcommerceCustomerservicerobot    SeqSeqGRUGRU...   \n",
       "1            Customer Analytics iPython Notebook See   \n",
       "2   warning BEWARE  This repository has been depr...   \n",
       "3   Recency Frequency and Monetary RFM Customer S...   \n",
       "4   warning BEWARE  This repository has been depr...   \n",
       "\n",
       "                                               clean  \\\n",
       "0  ecommercecustomerservicerobot seqseqgrugruteac...   \n",
       "1            customer analytics ipython notebook see   \n",
       "2  warning beware repository deprecated maintaine...   \n",
       "3  recency frequency monetary rfm customer segmen...   \n",
       "4  warning beware repository deprecated maintaine...   \n",
       "\n",
       "                                             stemmed  \\\n",
       "0  ecommercecustomerservicerobot seqseqgrugruteac...   \n",
       "1                 custom analyt ipython notebook see   \n",
       "2  warn bewar repositori deprec maintain evolv sy...   \n",
       "3  recenc frequenc monetari rfm custom segment us...   \n",
       "4  warn bewar repositori deprec maintain evolv sy...   \n",
       "\n",
       "                                          lemmatized     0  \n",
       "0  ecommercecustomerservicerobot seqseqgrugruteac...    83  \n",
       "1            customer analytics ipython notebook see    40  \n",
       "2  warning beware repository deprecated maintaine...  1901  \n",
       "3  recency frequency monetary rfm customer segmen...   255  \n",
       "4  warning beware repository deprecated maintaine...  2764  "
      ]
     },
     "execution_count": 48,
     "metadata": {},
     "output_type": "execute_result"
    }
   ],
   "source": [
    "df_with_length.head()"
   ]
  },
  {
   "cell_type": "code",
   "execution_count": 49,
   "id": "7998daee",
   "metadata": {},
   "outputs": [],
   "source": [
    "#Rename length column \n",
    "df_with_length.rename(columns = {0: \"length\"}, inplace = True)"
   ]
  },
  {
   "cell_type": "code",
   "execution_count": 50,
   "id": "be10a2fa",
   "metadata": {},
   "outputs": [
    {
     "data": {
      "text/html": [
       "<div>\n",
       "<style scoped>\n",
       "    .dataframe tbody tr th:only-of-type {\n",
       "        vertical-align: middle;\n",
       "    }\n",
       "\n",
       "    .dataframe tbody tr th {\n",
       "        vertical-align: top;\n",
       "    }\n",
       "\n",
       "    .dataframe thead th {\n",
       "        text-align: right;\n",
       "    }\n",
       "</style>\n",
       "<table border=\"1\" class=\"dataframe\">\n",
       "  <thead>\n",
       "    <tr style=\"text-align: right;\">\n",
       "      <th></th>\n",
       "      <th>repo</th>\n",
       "      <th>language</th>\n",
       "      <th>readme_contents</th>\n",
       "      <th>clean</th>\n",
       "      <th>stemmed</th>\n",
       "      <th>lemmatized</th>\n",
       "      <th>length</th>\n",
       "    </tr>\n",
       "  </thead>\n",
       "  <tbody>\n",
       "    <tr>\n",
       "      <th>0</th>\n",
       "      <td>gongdelu/E-commerce-Customer-service-robot</td>\n",
       "      <td>Jupyter Notebook</td>\n",
       "      <td>EcommerceCustomerservicerobot    SeqSeqGRUGRU...</td>\n",
       "      <td>ecommercecustomerservicerobot seqseqgrugruteac...</td>\n",
       "      <td>ecommercecustomerservicerobot seqseqgrugruteac...</td>\n",
       "      <td>ecommercecustomerservicerobot seqseqgrugruteac...</td>\n",
       "      <td>83</td>\n",
       "    </tr>\n",
       "    <tr>\n",
       "      <th>1</th>\n",
       "      <td>kpei/Customer-Analytics</td>\n",
       "      <td>Jupyter Notebook</td>\n",
       "      <td>Customer Analytics iPython Notebook See</td>\n",
       "      <td>customer analytics ipython notebook see</td>\n",
       "      <td>custom analyt ipython notebook see</td>\n",
       "      <td>customer analytics ipython notebook see</td>\n",
       "      <td>40</td>\n",
       "    </tr>\n",
       "    <tr>\n",
       "      <th>2</th>\n",
       "      <td>Sylius/CustomerOrderCancellationPlugin</td>\n",
       "      <td>PHP</td>\n",
       "      <td>warning BEWARE  This repository has been depr...</td>\n",
       "      <td>warning beware repository deprecated maintaine...</td>\n",
       "      <td>warn bewar repositori deprec maintain evolv sy...</td>\n",
       "      <td>warning beware repository deprecated maintaine...</td>\n",
       "      <td>1901</td>\n",
       "    </tr>\n",
       "    <tr>\n",
       "      <th>3</th>\n",
       "      <td>optiflow/rfm-customer-segmentation</td>\n",
       "      <td>Jupyter Notebook</td>\n",
       "      <td>Recency Frequency and Monetary RFM Customer S...</td>\n",
       "      <td>recency frequency monetary rfm customer segmen...</td>\n",
       "      <td>recenc frequenc monetari rfm custom segment us...</td>\n",
       "      <td>recency frequency monetary rfm customer segmen...</td>\n",
       "      <td>255</td>\n",
       "    </tr>\n",
       "    <tr>\n",
       "      <th>4</th>\n",
       "      <td>Sylius/CustomerReorderPlugin</td>\n",
       "      <td>PHP</td>\n",
       "      <td>warning BEWARE  This repository has been depr...</td>\n",
       "      <td>warning beware repository deprecated maintaine...</td>\n",
       "      <td>warn bewar repositori deprec maintain evolv sy...</td>\n",
       "      <td>warning beware repository deprecated maintaine...</td>\n",
       "      <td>2764</td>\n",
       "    </tr>\n",
       "  </tbody>\n",
       "</table>\n",
       "</div>"
      ],
      "text/plain": [
       "                                         repo          language  \\\n",
       "0  gongdelu/E-commerce-Customer-service-robot  Jupyter Notebook   \n",
       "1                     kpei/Customer-Analytics  Jupyter Notebook   \n",
       "2      Sylius/CustomerOrderCancellationPlugin               PHP   \n",
       "3          optiflow/rfm-customer-segmentation  Jupyter Notebook   \n",
       "4                Sylius/CustomerReorderPlugin               PHP   \n",
       "\n",
       "                                     readme_contents  \\\n",
       "0   EcommerceCustomerservicerobot    SeqSeqGRUGRU...   \n",
       "1            Customer Analytics iPython Notebook See   \n",
       "2   warning BEWARE  This repository has been depr...   \n",
       "3   Recency Frequency and Monetary RFM Customer S...   \n",
       "4   warning BEWARE  This repository has been depr...   \n",
       "\n",
       "                                               clean  \\\n",
       "0  ecommercecustomerservicerobot seqseqgrugruteac...   \n",
       "1            customer analytics ipython notebook see   \n",
       "2  warning beware repository deprecated maintaine...   \n",
       "3  recency frequency monetary rfm customer segmen...   \n",
       "4  warning beware repository deprecated maintaine...   \n",
       "\n",
       "                                             stemmed  \\\n",
       "0  ecommercecustomerservicerobot seqseqgrugruteac...   \n",
       "1                 custom analyt ipython notebook see   \n",
       "2  warn bewar repositori deprec maintain evolv sy...   \n",
       "3  recenc frequenc monetari rfm custom segment us...   \n",
       "4  warn bewar repositori deprec maintain evolv sy...   \n",
       "\n",
       "                                          lemmatized  length  \n",
       "0  ecommercecustomerservicerobot seqseqgrugruteac...      83  \n",
       "1            customer analytics ipython notebook see      40  \n",
       "2  warning beware repository deprecated maintaine...    1901  \n",
       "3  recency frequency monetary rfm customer segmen...     255  \n",
       "4  warning beware repository deprecated maintaine...    2764  "
      ]
     },
     "execution_count": 50,
     "metadata": {},
     "output_type": "execute_result"
    }
   ],
   "source": [
    "df_with_length.head()"
   ]
  },
  {
   "cell_type": "code",
   "execution_count": 51,
   "id": "07736e59",
   "metadata": {},
   "outputs": [
    {
     "data": {
      "text/plain": [
       "Jupyter Notebook    49\n",
       "PHP                 38\n",
       "Python              25\n",
       "JavaScript          24\n",
       "Name: language, dtype: int64"
      ]
     },
     "execution_count": 51,
     "metadata": {},
     "output_type": "execute_result"
    }
   ],
   "source": [
    "#Get list of unique langauges\n",
    "df_with_length.language.value_counts()"
   ]
  },
  {
   "cell_type": "code",
   "execution_count": 52,
   "id": "9e58db21",
   "metadata": {},
   "outputs": [],
   "source": [
    "#Create DataFrames for each language\n",
    "jupyter = df_with_length[df_with_length.language == \"Jupyter Notebook\"]\n",
    "php = df_with_length[df_with_length.language == \"PHP\"]\n",
    "python = df_with_length[df_with_length.language == \"Python\"]\n",
    "java = df_with_length[df_with_length.language == \"JavaScript\"]"
   ]
  },
  {
   "cell_type": "code",
   "execution_count": 53,
   "id": "a9f93fc1",
   "metadata": {},
   "outputs": [],
   "source": [
    "#Reset the index of the new DataFrames \n",
    "jupyter = jupyter.reset_index()\n",
    "php = php.reset_index()\n",
    "python = python.reset_index()\n",
    "java = java.reset_index()"
   ]
  },
  {
   "cell_type": "code",
   "execution_count": 54,
   "id": "11f57e8d",
   "metadata": {},
   "outputs": [
    {
     "name": "stdout",
     "output_type": "stream",
     "text": [
      "Jupyter Notebook\n",
      "Median READme length 1644.0\n",
      "Mean READme length 3242.938775510204\n",
      " \n",
      "PHP\n",
      "Median READme length 746.5\n",
      "Mean READme length 1439.4736842105262\n",
      " \n",
      "Python\n",
      "Median READme length 644.0\n",
      "Mean READme length 1579.96\n",
      " \n",
      "JavaScript\n",
      "Median READme length 1107.5\n",
      "Mean READme length 2354.375\n",
      " \n"
     ]
    }
   ],
   "source": [
    "#Calculate median and average lengths for each DataFrame\n",
    "dataframes = [jupyter, php, python, java]\n",
    "for lang in dataframes:\n",
    "    print(lang.language[0])\n",
    "    print(\"Median READme length\", lang.length.median())\n",
    "    print(\"Mean READme length\", lang.length.mean())\n",
    "    print(\" \")"
   ]
  },
  {
   "cell_type": "markdown",
   "id": "2c00ebd3",
   "metadata": {},
   "source": [
    "Now we will run statistical testing to determine if the average length of the READme file for each language is significantly different than the length of the READme file for other languages.\n",
    "\n",
    "As is customary, for the following statistical tests, our alpha value will be 0.05."
   ]
  },
  {
   "cell_type": "code",
   "execution_count": 55,
   "id": "d0aa8fbe",
   "metadata": {},
   "outputs": [
    {
     "name": "stdout",
     "output_type": "stream",
     "text": [
      "PHP average READme length vs Jupyter average length\n",
      "Ttest_indResult(statistic=-1.8616184902205477, pvalue=0.06611305850967955)\n",
      " \n",
      "Python average READme length vs Jupyter average length\n",
      "Ttest_indResult(statistic=-1.3835831902700682, pvalue=0.17076087452026897)\n",
      " \n",
      "JavaScript average READme length vs Jupyter average length\n",
      "Ttest_indResult(statistic=-0.7091768908777644, pvalue=0.4805370466090102)\n",
      " \n"
     ]
    }
   ],
   "source": [
    "not_jupyter = [php, python, java]\n",
    "for lang in not_jupyter:\n",
    "    print(lang.language[0], \"average READme length vs Jupyter average length\")\n",
    "    print(stats.ttest_ind(lang.length, jupyter.length))\n",
    "    print(\" \")"
   ]
  },
  {
   "cell_type": "code",
   "execution_count": 56,
   "id": "3fce3042",
   "metadata": {},
   "outputs": [
    {
     "name": "stdout",
     "output_type": "stream",
     "text": [
      "Python average READme length vs PHP average length\n",
      "Ttest_indResult(statistic=0.22927542200610088, pvalue=0.8194218622696456)\n",
      " \n",
      "JavaScript average READme length vs PHP average length\n",
      "Ttest_indResult(statistic=1.3276887891704021, pvalue=0.18931025885020386)\n",
      " \n"
     ]
    }
   ],
   "source": [
    "not_php = [python, java]\n",
    "for lang in not_php:\n",
    "    print(lang.language[0], \"average READme length vs PHP average length\")\n",
    "    print(stats.ttest_ind(lang.length, php.length))\n",
    "    print(\" \")"
   ]
  },
  {
   "cell_type": "code",
   "execution_count": 57,
   "id": "8b565448",
   "metadata": {},
   "outputs": [
    {
     "name": "stdout",
     "output_type": "stream",
     "text": [
      "Python average READme length vs Java average length\n",
      "Ttest_indResult(statistic=-0.8921389809818724, pvalue=0.3768633998634675)\n"
     ]
    }
   ],
   "source": [
    "print(\"Python average READme length vs Java average length\")\n",
    "print(stats.ttest_ind(python.length, java.length))"
   ]
  },
  {
   "cell_type": "markdown",
   "id": "5378c0fe",
   "metadata": {},
   "source": [
    "The above statistical tests indicate that none of the lengths of the READme files of one programming language differ signficantly from the lengths of the READme files of any other programming language. \n",
    "\n",
    "We can also run statistical testing comparing the length of each programming language's READme files to the overall population READme file length."
   ]
  },
  {
   "cell_type": "code",
   "execution_count": 59,
   "id": "e42503a0",
   "metadata": {},
   "outputs": [
    {
     "name": "stdout",
     "output_type": "stream",
     "text": [
      "Jupyter Notebook READme length vs all languages READme lengths\n",
      "Ttest_1sampResult(statistic=1.193575271661778, pvalue=0.23851004226093867)\n",
      " \n",
      "PHP READme length vs all languages READme lengths\n",
      "Ttest_1sampResult(statistic=-2.4404955964402517, pvalue=0.019575195371731947)\n",
      " \n",
      "Python READme length vs all languages READme lengths\n",
      "Ttest_1sampResult(statistic=-1.271917776615204, pvalue=0.21558940036119228)\n",
      " \n",
      "JavaScript READme length vs all languages READme lengths\n",
      "Ttest_1sampResult(statistic=0.11482863002003657, pvalue=0.9095775400216792)\n",
      " \n"
     ]
    }
   ],
   "source": [
    "for lang in dataframes:\n",
    "    print(lang.language[0], \"READme length vs all languages READme lengths\")\n",
    "    print(stats.ttest_1samp(lang.length, df_with_length.length.mean()))\n",
    "    print(\" \")"
   ]
  },
  {
   "cell_type": "markdown",
   "id": "3c94376d",
   "metadata": {},
   "source": [
    "The T-Test here indicated that he length of the PHP READme files differs signficantly from the overall population READme file length."
   ]
  },
  {
   "cell_type": "markdown",
   "id": "658a93f4",
   "metadata": {},
   "source": [
    "### Do different programming languages use a different number of unique words?"
   ]
  }
 ],
 "metadata": {
  "kernelspec": {
   "display_name": "Python 3",
   "language": "python",
   "name": "python3"
  },
  "language_info": {
   "codemirror_mode": {
    "name": "ipython",
    "version": 3
   },
   "file_extension": ".py",
   "mimetype": "text/x-python",
   "name": "python",
   "nbconvert_exporter": "python",
   "pygments_lexer": "ipython3",
   "version": "3.8.8"
  }
 },
 "nbformat": 4,
 "nbformat_minor": 5
}
