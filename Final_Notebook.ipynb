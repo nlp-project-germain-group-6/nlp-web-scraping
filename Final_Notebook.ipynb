{
 "cells": [
  {
   "cell_type": "markdown",
   "id": "46a1f186",
   "metadata": {},
   "source": [
    "# Using Natural Language to Predict Programming Languange \n",
    "## Webscraping and Natural Language Processing Project \n",
    "### Presented by Chris Everts, Randy French, and Malachi Hale"
   ]
  },
  {
   "cell_type": "markdown",
   "id": "58914857",
   "metadata": {},
   "source": [
    "## Executive Summary \n",
    "\n",
    "### Project Goal\n",
    "\n",
    "For this project, we will be scraping data from GitHub repository README files. The goal will be to build a model that can predict what programming language a repository is, given the text of the README file.\n",
    "\n",
    "### Outline \n",
    "\n",
    "We take the following steps: \n",
    "\n",
    " - **Acquire** the text data from GitHub READme files utilizing the GitHub API. \n",
    " - **Prepare** the data:\n",
    " \n",
    "     - *First* by dropping unneeded information in the data set:\n",
    "     \n",
    "         - eliminating all image formatting text inside of angle brackets, \n",
    "         - eliminating all URL links from the text data, \n",
    "         - dropping rows with null values, \n",
    "         - eliminating rows with text in non-Roman characters, and\n",
    "         - selecting only the eliminates whose language is within the top four most common languages.\n",
    "         \n",
    "     - *Second* we clean the remaining data by:\n",
    "          - Performing a basic \"data cleaning\" through converting all text to lower case, normalize unicode strings, encoding/removing ASCII, and eliminating all foreign characters. \n",
    "          - Tokenizing the text data. \n",
    "          - Creating additional columns of stemmed data and lemmatized data. \n",
    "     \n",
    " - **Explore** the text data by addressing the following questions: \n",
    "    - What are the most common words in READme files?\n",
    "    - Does the length of the READme file vary by programming language?\n",
    "    - Do different programming languages use a different number of unique words?\n",
    "    - What does the distribution of IDFs look like for the most common words?\n",
    "    \n",
    " - **Model** the data to classify based on programming language based on the READme file text.\n",
    "     - We use the classification models Naive Bayes, SVC, Decision Tree, Random Forest, K Nearest Neighbors, and Logistic Regression. \n",
    "     - We run each of these models on the stemmed data, the lemmatized data, and the cleaned data. \n",
    "     - Based on the accuracy score on the validate dataset, we choose the best model to run on the test dataset.\n",
    "     \n",
    "### Key Findings\n",
    "\n",
    "We will demonstrate that we can use the K Nearest Neighbors model on the cleaned text data to predict with an accuracy greater than baseline the programming language that corresponds to each READme file. \n",
    "\n",
    "### Recommendation \n",
    "\n",
    "We were able to create a successful model that predicted better than baseline which programming language a READme file was likely to accompany. There are, however, some ways that we may be able to fortify our model.\n",
    "\n",
    "In this project, we began with an initial dataset of 200 READme files. To make our model even more robust in the future, we may explore using a larger sample of READme files. \n",
    "\n",
    "Furthermore, because natural language differs so signficantly by geographic location, it may be useful to build separate classification models based on the repository creator's location. "
   ]
  },
  {
   "cell_type": "markdown",
   "id": "111893e8",
   "metadata": {},
   "source": [
    "## Import Libraries"
   ]
  },
  {
   "cell_type": "code",
   "execution_count": 1,
   "id": "6e54d4fc",
   "metadata": {},
   "outputs": [],
   "source": [
    "#Pandas\n",
    "import pandas as pd\n",
    "\n",
    "#Imports for web scraping and text formatting\n",
    "import re\n",
    "import requests\n",
    "from bs4 import BeautifulSoup\n",
    "import unicodedata\n",
    "import json\n",
    "\n",
    "#Stats \n",
    "from scipy import stats \n",
    "\n",
    "#Numpy\n",
    "import numpy as np\n",
    "\n",
    "#Import repository files\n",
    "import explore \n",
    "import prepare  \n",
    "import acquire  \n",
    "import model as m\n",
    "\n",
    "#Merge\n",
    "from mergedeep import merge\n",
    "\n",
    "import nltk\n",
    "from nltk.tokenize.toktok import ToktokTokenizer\n",
    "from nltk.corpus import stopwords\n",
    "\n",
    "# imports for modeling\n",
    "from sklearn.model_selection import train_test_split\n",
    "\n",
    "#Sparse Matrix Vectorizer\n",
    "from sklearn.feature_extraction.text import CountVectorizer, TfidfVectorizer\n",
    "\n",
    "# imports for modeling\n",
    "from sklearn.model_selection import train_test_split\n",
    "from sklearn.tree import DecisionTreeClassifier\n",
    "from sklearn.naive_bayes import MultinomialNB\n",
    "from sklearn.ensemble import RandomForestClassifier\n",
    "from sklearn.naive_bayes import MultinomialNB\n",
    "from sklearn.svm import LinearSVC\n",
    "from sklearn.neighbors import KNeighborsClassifier\n",
    "from sklearn.metrics import classification_report, confusion_matrix, recall_score, plot_confusion_matrix\n",
    "from sklearn.linear_model import LogisticRegression\n",
    "\n",
    "# imports for visualization\n",
    "import matplotlib.pyplot as plt\n",
    "import matplotlib as mpl\n",
    "from matplotlib import cm # for colormap tools\n",
    "import seaborn as sns\n",
    "from wordcloud import WordCloud, ImageColorGenerator\n",
    "from PIL import Image\n",
    "import seaborn as sns\n",
    "\n",
    "\n",
    "plt.rc('figure', figsize=(13, 7))\n",
    "plt.rc('font', size=16)\n",
    "plt.style.use('seaborn-darkgrid')"
   ]
  },
  {
   "cell_type": "markdown",
   "id": "6e56085d",
   "metadata": {},
   "source": [
    "## Acquire\n",
    "\n",
    "We wil utilize the GitHub API to scrape and extract the text of READme files for each page, as welll as the primary language of the reporistory. Please see the `acquire.py` file in this repository for more information on our acquire process."
   ]
  },
  {
   "cell_type": "code",
   "execution_count": 14,
   "id": "56609a86",
   "metadata": {},
   "outputs": [
    {
     "data": {
      "text/html": [
       "<div>\n",
       "<style scoped>\n",
       "    .dataframe tbody tr th:only-of-type {\n",
       "        vertical-align: middle;\n",
       "    }\n",
       "\n",
       "    .dataframe tbody tr th {\n",
       "        vertical-align: top;\n",
       "    }\n",
       "\n",
       "    .dataframe thead th {\n",
       "        text-align: right;\n",
       "    }\n",
       "</style>\n",
       "<table border=\"1\" class=\"dataframe\">\n",
       "  <thead>\n",
       "    <tr style=\"text-align: right;\">\n",
       "      <th></th>\n",
       "      <th>repo</th>\n",
       "      <th>language</th>\n",
       "      <th>readme_contents</th>\n",
       "    </tr>\n",
       "  </thead>\n",
       "  <tbody>\n",
       "    <tr>\n",
       "      <th>0</th>\n",
       "      <td>gongdelu/E-commerce-Customer-service-robot</td>\n",
       "      <td>Jupyter Notebook</td>\n",
       "      <td># E-commerce-Customer-service-robot\\n电商多轮对话客服机...</td>\n",
       "    </tr>\n",
       "    <tr>\n",
       "      <th>1</th>\n",
       "      <td>Azure/fta-customerfacingapps</td>\n",
       "      <td>C#</td>\n",
       "      <td># FastTrack for Azure\\n\\nSee our [FastTrack fo...</td>\n",
       "    </tr>\n",
       "    <tr>\n",
       "      <th>2</th>\n",
       "      <td>ELMAHDI-AR/CustomerAuthentication-With-ASP.NET...</td>\n",
       "      <td>PowerShell</td>\n",
       "      <td></td>\n",
       "    </tr>\n",
       "    <tr>\n",
       "      <th>3</th>\n",
       "      <td>kpei/Customer-Analytics</td>\n",
       "      <td>Jupyter Notebook</td>\n",
       "      <td># Customer Analytics iPython Notebook\\nSee htt...</td>\n",
       "    </tr>\n",
       "    <tr>\n",
       "      <th>4</th>\n",
       "      <td>Sylius/CustomerOrderCancellationPlugin</td>\n",
       "      <td>PHP</td>\n",
       "      <td>&gt; :warning: **BEWARE!**\\n&gt; This repository has...</td>\n",
       "    </tr>\n",
       "  </tbody>\n",
       "</table>\n",
       "</div>"
      ],
      "text/plain": [
       "                                                repo          language  \\\n",
       "0         gongdelu/E-commerce-Customer-service-robot  Jupyter Notebook   \n",
       "1                       Azure/fta-customerfacingapps                C#   \n",
       "2  ELMAHDI-AR/CustomerAuthentication-With-ASP.NET...        PowerShell   \n",
       "3                            kpei/Customer-Analytics  Jupyter Notebook   \n",
       "4             Sylius/CustomerOrderCancellationPlugin               PHP   \n",
       "\n",
       "                                     readme_contents  \n",
       "0  # E-commerce-Customer-service-robot\\n电商多轮对话客服机...  \n",
       "1  # FastTrack for Azure\\n\\nSee our [FastTrack fo...  \n",
       "2                                                     \n",
       "3  # Customer Analytics iPython Notebook\\nSee htt...  \n",
       "4  > :warning: **BEWARE!**\\n> This repository has...  "
      ]
     },
     "execution_count": 14,
     "metadata": {},
     "output_type": "execute_result"
    }
   ],
   "source": [
    "#Use the scrape github function from the acquire module to acquire the dataframe containing the names of the\n",
    "#repositories and the contents of the readme files\n",
    "df = acquire.scrape_github_data()\n",
    "\n",
    "#convert the data into a dataframe\n",
    "df = pd.DataFrame(df)\n",
    "df.head()"
   ]
  },
  {
   "cell_type": "code",
   "execution_count": 15,
   "id": "9801da68",
   "metadata": {},
   "outputs": [],
   "source": [
    "# read in the json file generated by compiling the acquire.py file\n",
    "df = pd.read_json('data2.json')"
   ]
  },
  {
   "cell_type": "code",
   "execution_count": 16,
   "id": "a2b3423a",
   "metadata": {},
   "outputs": [
    {
     "data": {
      "text/plain": [
       "200"
      ]
     },
     "execution_count": 16,
     "metadata": {},
     "output_type": "execute_result"
    }
   ],
   "source": [
    "len(df)"
   ]
  },
  {
   "cell_type": "code",
   "execution_count": 17,
   "id": "d060f82e",
   "metadata": {},
   "outputs": [
    {
     "data": {
      "text/html": [
       "<div>\n",
       "<style scoped>\n",
       "    .dataframe tbody tr th:only-of-type {\n",
       "        vertical-align: middle;\n",
       "    }\n",
       "\n",
       "    .dataframe tbody tr th {\n",
       "        vertical-align: top;\n",
       "    }\n",
       "\n",
       "    .dataframe thead th {\n",
       "        text-align: right;\n",
       "    }\n",
       "</style>\n",
       "<table border=\"1\" class=\"dataframe\">\n",
       "  <thead>\n",
       "    <tr style=\"text-align: right;\">\n",
       "      <th></th>\n",
       "      <th>repo</th>\n",
       "      <th>language</th>\n",
       "      <th>readme_contents</th>\n",
       "    </tr>\n",
       "  </thead>\n",
       "  <tbody>\n",
       "    <tr>\n",
       "      <th>0</th>\n",
       "      <td>gongdelu/E-commerce-Customer-service-robot</td>\n",
       "      <td>Jupyter Notebook</td>\n",
       "      <td># E-commerce-Customer-service-robot\\n电商多轮对话客服机...</td>\n",
       "    </tr>\n",
       "    <tr>\n",
       "      <th>1</th>\n",
       "      <td>Azure/fta-customerfacingapps</td>\n",
       "      <td>C#</td>\n",
       "      <td># FastTrack for Azure\\n\\nSee our [FastTrack fo...</td>\n",
       "    </tr>\n",
       "    <tr>\n",
       "      <th>2</th>\n",
       "      <td>ELMAHDI-AR/CustomerAuthentication-With-ASP.NET...</td>\n",
       "      <td>PowerShell</td>\n",
       "      <td></td>\n",
       "    </tr>\n",
       "    <tr>\n",
       "      <th>3</th>\n",
       "      <td>kpei/Customer-Analytics</td>\n",
       "      <td>Jupyter Notebook</td>\n",
       "      <td># Customer Analytics iPython Notebook\\nSee htt...</td>\n",
       "    </tr>\n",
       "    <tr>\n",
       "      <th>4</th>\n",
       "      <td>Sylius/CustomerOrderCancellationPlugin</td>\n",
       "      <td>PHP</td>\n",
       "      <td>&gt; :warning: **BEWARE!**\\n&gt; This repository has...</td>\n",
       "    </tr>\n",
       "  </tbody>\n",
       "</table>\n",
       "</div>"
      ],
      "text/plain": [
       "                                                repo          language  \\\n",
       "0         gongdelu/E-commerce-Customer-service-robot  Jupyter Notebook   \n",
       "1                       Azure/fta-customerfacingapps                C#   \n",
       "2  ELMAHDI-AR/CustomerAuthentication-With-ASP.NET...        PowerShell   \n",
       "3                            kpei/Customer-Analytics  Jupyter Notebook   \n",
       "4             Sylius/CustomerOrderCancellationPlugin               PHP   \n",
       "\n",
       "                                     readme_contents  \n",
       "0  # E-commerce-Customer-service-robot\\n电商多轮对话客服机...  \n",
       "1  # FastTrack for Azure\\n\\nSee our [FastTrack fo...  \n",
       "2                                                     \n",
       "3  # Customer Analytics iPython Notebook\\nSee htt...  \n",
       "4  > :warning: **BEWARE!**\\n> This repository has...  "
      ]
     },
     "execution_count": 17,
     "metadata": {},
     "output_type": "execute_result"
    }
   ],
   "source": [
    "df.head()"
   ]
  },
  {
   "cell_type": "markdown",
   "id": "52aba960",
   "metadata": {},
   "source": [
    "## Prepare\n",
    "\n",
    "To prepare our data, we will perform two tasks. First, we will drop unneeded rows in our dataset. Second, we will clean the text, as well as create columns for stemmed and lemmatized text data. For more information about our data preparation process, please see the `prepare.py` file in this repository. "
   ]
  },
  {
   "cell_type": "code",
   "execution_count": 18,
   "id": "6fe56eb8",
   "metadata": {},
   "outputs": [],
   "source": [
    "# do drop unneeded data first then prep\n",
    "df = prepare.drop_unneeded_data(df)"
   ]
  },
  {
   "cell_type": "code",
   "execution_count": 19,
   "id": "586e9698",
   "metadata": {},
   "outputs": [
    {
     "data": {
      "text/plain": [
       "136"
      ]
     },
     "execution_count": 19,
     "metadata": {},
     "output_type": "execute_result"
    }
   ],
   "source": [
    "len(df)"
   ]
  },
  {
   "cell_type": "markdown",
   "id": "c9bc6c8d",
   "metadata": {},
   "source": [
    "We have eliminated 64 rows from our dataset. Now we are ready to clean, stem, and lemmatize the text data."
   ]
  },
  {
   "cell_type": "code",
   "execution_count": 20,
   "id": "88071aa8",
   "metadata": {},
   "outputs": [],
   "source": [
    "df = prepare.prepare_nlp_data(df, content = 'readme_contents')"
   ]
  },
  {
   "cell_type": "code",
   "execution_count": 21,
   "id": "fa64f08f",
   "metadata": {},
   "outputs": [
    {
     "data": {
      "text/html": [
       "<div>\n",
       "<style scoped>\n",
       "    .dataframe tbody tr th:only-of-type {\n",
       "        vertical-align: middle;\n",
       "    }\n",
       "\n",
       "    .dataframe tbody tr th {\n",
       "        vertical-align: top;\n",
       "    }\n",
       "\n",
       "    .dataframe thead th {\n",
       "        text-align: right;\n",
       "    }\n",
       "</style>\n",
       "<table border=\"1\" class=\"dataframe\">\n",
       "  <thead>\n",
       "    <tr style=\"text-align: right;\">\n",
       "      <th></th>\n",
       "      <th>repo</th>\n",
       "      <th>language</th>\n",
       "      <th>readme_contents</th>\n",
       "      <th>clean</th>\n",
       "      <th>stemmed</th>\n",
       "      <th>lemmatized</th>\n",
       "    </tr>\n",
       "  </thead>\n",
       "  <tbody>\n",
       "    <tr>\n",
       "      <th>0</th>\n",
       "      <td>gongdelu/E-commerce-Customer-service-robot</td>\n",
       "      <td>Jupyter Notebook</td>\n",
       "      <td>EcommerceCustomerservicerobot    SeqSeqGRUGRU...</td>\n",
       "      <td>ecommercecustomerservicerobot seqseqgrugruteac...</td>\n",
       "      <td>ecommercecustomerservicerobot seqseqgrugruteac...</td>\n",
       "      <td>ecommercecustomerservicerobot seqseqgrugruteac...</td>\n",
       "    </tr>\n",
       "    <tr>\n",
       "      <th>1</th>\n",
       "      <td>kpei/Customer-Analytics</td>\n",
       "      <td>Jupyter Notebook</td>\n",
       "      <td>Customer Analytics iPython Notebook See</td>\n",
       "      <td>customer analytics ipython notebook see</td>\n",
       "      <td>custom analyt ipython notebook see</td>\n",
       "      <td>customer analytics ipython notebook see</td>\n",
       "    </tr>\n",
       "    <tr>\n",
       "      <th>2</th>\n",
       "      <td>Sylius/CustomerOrderCancellationPlugin</td>\n",
       "      <td>PHP</td>\n",
       "      <td>warning BEWARE  This repository has been depr...</td>\n",
       "      <td>warning beware repository deprecated maintaine...</td>\n",
       "      <td>warn bewar repositori deprec maintain evolv sy...</td>\n",
       "      <td>warning beware repository deprecated maintaine...</td>\n",
       "    </tr>\n",
       "    <tr>\n",
       "      <th>3</th>\n",
       "      <td>optiflow/rfm-customer-segmentation</td>\n",
       "      <td>Jupyter Notebook</td>\n",
       "      <td>Recency Frequency and Monetary RFM Customer S...</td>\n",
       "      <td>recency frequency monetary rfm customer segmen...</td>\n",
       "      <td>recenc frequenc monetari rfm custom segment us...</td>\n",
       "      <td>recency frequency monetary rfm customer segmen...</td>\n",
       "    </tr>\n",
       "    <tr>\n",
       "      <th>4</th>\n",
       "      <td>Sylius/CustomerReorderPlugin</td>\n",
       "      <td>PHP</td>\n",
       "      <td>warning BEWARE  This repository has been depr...</td>\n",
       "      <td>warning beware repository deprecated maintaine...</td>\n",
       "      <td>warn bewar repositori deprec maintain evolv sy...</td>\n",
       "      <td>warning beware repository deprecated maintaine...</td>\n",
       "    </tr>\n",
       "  </tbody>\n",
       "</table>\n",
       "</div>"
      ],
      "text/plain": [
       "                                         repo          language  \\\n",
       "0  gongdelu/E-commerce-Customer-service-robot  Jupyter Notebook   \n",
       "1                     kpei/Customer-Analytics  Jupyter Notebook   \n",
       "2      Sylius/CustomerOrderCancellationPlugin               PHP   \n",
       "3          optiflow/rfm-customer-segmentation  Jupyter Notebook   \n",
       "4                Sylius/CustomerReorderPlugin               PHP   \n",
       "\n",
       "                                     readme_contents  \\\n",
       "0   EcommerceCustomerservicerobot    SeqSeqGRUGRU...   \n",
       "1            Customer Analytics iPython Notebook See   \n",
       "2   warning BEWARE  This repository has been depr...   \n",
       "3   Recency Frequency and Monetary RFM Customer S...   \n",
       "4   warning BEWARE  This repository has been depr...   \n",
       "\n",
       "                                               clean  \\\n",
       "0  ecommercecustomerservicerobot seqseqgrugruteac...   \n",
       "1            customer analytics ipython notebook see   \n",
       "2  warning beware repository deprecated maintaine...   \n",
       "3  recency frequency monetary rfm customer segmen...   \n",
       "4  warning beware repository deprecated maintaine...   \n",
       "\n",
       "                                             stemmed  \\\n",
       "0  ecommercecustomerservicerobot seqseqgrugruteac...   \n",
       "1                 custom analyt ipython notebook see   \n",
       "2  warn bewar repositori deprec maintain evolv sy...   \n",
       "3  recenc frequenc monetari rfm custom segment us...   \n",
       "4  warn bewar repositori deprec maintain evolv sy...   \n",
       "\n",
       "                                          lemmatized  \n",
       "0  ecommercecustomerservicerobot seqseqgrugruteac...  \n",
       "1            customer analytics ipython notebook see  \n",
       "2  warning beware repository deprecated maintaine...  \n",
       "3  recency frequency monetary rfm customer segmen...  \n",
       "4  warning beware repository deprecated maintaine...  "
      ]
     },
     "execution_count": 21,
     "metadata": {},
     "output_type": "execute_result"
    }
   ],
   "source": [
    "df.head()"
   ]
  },
  {
   "cell_type": "markdown",
   "id": "cfdeef51",
   "metadata": {},
   "source": [
    "## Explore\n",
    "\n",
    "In this section, we will address the following questions: \n",
    " - What are the most common words in READme files?\n",
    " - Does the length of the READme vary by programming language?\n",
    " - Do different programming languages use a different number of unique words?\n",
    " - What does the distribution of IDFs look like for the most common words?"
   ]
  },
  {
   "cell_type": "markdown",
   "id": "acbb1147",
   "metadata": {},
   "source": [
    "### What are the most common words in READme files?\n",
    "\n",
    "We will create a single string of our text data so that we can determine what the most frequently used words in this string are. "
   ]
  },
  {
   "cell_type": "code",
   "execution_count": 22,
   "id": "b12f10fd",
   "metadata": {},
   "outputs": [],
   "source": [
    "words = ' '.join(df.stemmed)"
   ]
  },
  {
   "cell_type": "code",
   "execution_count": 23,
   "id": "c79b5704",
   "metadata": {},
   "outputs": [
    {
     "data": {
      "text/plain": [
       "'ecommercecustomerservicerobot seqseqgrugruteach forc torch jieba numpi custom analyt ipython notebook see warn bewar repositori deprec maintain evolv syliu team still use compat syliu version risk bug fix custom order cancel plugin plugin allow custom cancel place order process screenshot show custom order page cancel buttonsdocsscreenshot png busi valu far custom chang mind alreadi place order administr cancel order howev ask question cant custom cancel order yet paid come custom order cancel plugin allow cancel unpaid order straight order histori view instal bewar instal instruct assum your use symfoni flex dont take look legaci instal instructiondocslegacyinstal md howev strongli encourag use symfoni flex much quicker instal plugin requir compos bash compos requir syliuscustomerordercancellationplugin rememb allow commun recip compos config extra symfoni allowcontrib true plugin instal process extens point custom order cancel plugin use order entiti deriv syliuscorebundl well alreadi defin state default plugin implement assum order cancel custom payment state awaitingpay shipment state equal readi condit easili chang creat custom implement customerordercancellationcheckerinterfac decor exist one secur issu think found secur issu pleas use issu tracker post publicli instead secur issu must sent securitysyliu com recenc frequenc monetari rfm custom segment use kmean articl explain detail approach publish dataset dataset obtain uci machin learn licens content repositori cover'"
      ]
     },
     "execution_count": 23,
     "metadata": {},
     "output_type": "execute_result"
    }
   ],
   "source": [
    "words[0:1500]"
   ]
  },
  {
   "cell_type": "code",
   "execution_count": 24,
   "id": "0347f3df",
   "metadata": {},
   "outputs": [],
   "source": [
    "frequencies = pd.Series(words.split()).value_counts()"
   ]
  },
  {
   "cell_type": "code",
   "execution_count": 43,
   "id": "c1400a32",
   "metadata": {},
   "outputs": [
    {
     "data": {
      "text/plain": [
       "custom      923\n",
       "data        424\n",
       "use         407\n",
       "model       258\n",
       "creat       209\n",
       "instal      169\n",
       "project     151\n",
       "file        150\n",
       "run         150\n",
       "featur      147\n",
       "new         144\n",
       "notebook    136\n",
       "account     133\n",
       "magento     128\n",
       "set         127\n",
       "segment     115\n",
       "png         110\n",
       "valu        107\n",
       "churn       106\n",
       "code        106\n",
       "dtype: int64"
      ]
     },
     "execution_count": 43,
     "metadata": {},
     "output_type": "execute_result"
    }
   ],
   "source": [
    "frequencies.head(20)"
   ]
  },
  {
   "cell_type": "code",
   "execution_count": 26,
   "id": "888f584d",
   "metadata": {},
   "outputs": [],
   "source": [
    "top_20_words = frequencies.head(20)"
   ]
  },
  {
   "cell_type": "code",
   "execution_count": 27,
   "id": "02751f69",
   "metadata": {},
   "outputs": [
    {
     "data": {
      "image/png": "[encoded data removed]",
      "text/plain": [
       "<Figure size 936x504 with 1 Axes>"
      ]
     },
     "metadata": {},
     "output_type": "display_data"
    }
   ],
   "source": [
    "#Graph Most Common Words\n",
    "top_20_words.plot.barh()\n",
    "title = plt.title('Top 20 Most Common Words')"
   ]
  },
  {
   "cell_type": "code",
   "execution_count": 28,
   "id": "403cb2f8",
   "metadata": {},
   "outputs": [
    {
     "data": {
      "image/png": "[encoded data removed]",
      "text/plain": [
       "<Figure size 576x288 with 1 Axes>"
      ]
     },
     "metadata": {},
     "output_type": "display_data"
    }
   ],
   "source": [
    "data = {k: v for k, v in top_20_words.to_dict().items()}\n",
    "img = WordCloud(background_color='white', width=800, height=400).generate_from_frequencies(data)\n",
    "plt.figure(figsize=(8, 4))\n",
    "plt.imshow(img)\n",
    "plt.axis('off')\n",
    "plt.title(\"Top 20 Most Common Words Cloud\")\n",
    "plt.show()"
   ]
  },
  {
   "cell_type": "markdown",
   "id": "f2c09c74",
   "metadata": {},
   "source": [
    "### Does the length of the READme file differ by programming language?\n",
    "\n",
    "To answer this question, we will create a new column in the DataFrame for the length of each file. To create this column, we first create a list of each READme file's length."
   ]
  },
  {
   "cell_type": "code",
   "execution_count": 29,
   "id": "142e6fdc",
   "metadata": {},
   "outputs": [],
   "source": [
    "#Create empty list\n",
    "length_readme = []\n",
    "#Loop through the DataFrame READme files\n",
    "for i in range(len(df)):\n",
    "    length_readme.append(len(df.readme_contents[i]))"
   ]
  },
  {
   "cell_type": "code",
   "execution_count": 30,
   "id": "96c7cc35",
   "metadata": {},
   "outputs": [],
   "source": [
    "#Convert list of READme lengths into DataFrame\n",
    "length_readme_df = pd.DataFrame(length_readme)"
   ]
  },
  {
   "cell_type": "code",
   "execution_count": 31,
   "id": "04f2c838",
   "metadata": {},
   "outputs": [],
   "source": [
    "#Merge main DataFrame and READme length DataFrame\n",
    "df_with_length = pd.concat([df, length_readme_df], axis = 1)"
   ]
  },
  {
   "cell_type": "code",
   "execution_count": 32,
   "id": "aa060f20",
   "metadata": {},
   "outputs": [
    {
     "data": {
      "text/html": [
       "<div>\n",
       "<style scoped>\n",
       "    .dataframe tbody tr th:only-of-type {\n",
       "        vertical-align: middle;\n",
       "    }\n",
       "\n",
       "    .dataframe tbody tr th {\n",
       "        vertical-align: top;\n",
       "    }\n",
       "\n",
       "    .dataframe thead th {\n",
       "        text-align: right;\n",
       "    }\n",
       "</style>\n",
       "<table border=\"1\" class=\"dataframe\">\n",
       "  <thead>\n",
       "    <tr style=\"text-align: right;\">\n",
       "      <th></th>\n",
       "      <th>repo</th>\n",
       "      <th>language</th>\n",
       "      <th>readme_contents</th>\n",
       "      <th>clean</th>\n",
       "      <th>stemmed</th>\n",
       "      <th>lemmatized</th>\n",
       "      <th>0</th>\n",
       "    </tr>\n",
       "  </thead>\n",
       "  <tbody>\n",
       "    <tr>\n",
       "      <th>0</th>\n",
       "      <td>gongdelu/E-commerce-Customer-service-robot</td>\n",
       "      <td>Jupyter Notebook</td>\n",
       "      <td>EcommerceCustomerservicerobot    SeqSeqGRUGRU...</td>\n",
       "      <td>ecommercecustomerservicerobot seqseqgrugruteac...</td>\n",
       "      <td>ecommercecustomerservicerobot seqseqgrugruteac...</td>\n",
       "      <td>ecommercecustomerservicerobot seqseqgrugruteac...</td>\n",
       "      <td>83</td>\n",
       "    </tr>\n",
       "    <tr>\n",
       "      <th>1</th>\n",
       "      <td>kpei/Customer-Analytics</td>\n",
       "      <td>Jupyter Notebook</td>\n",
       "      <td>Customer Analytics iPython Notebook See</td>\n",
       "      <td>customer analytics ipython notebook see</td>\n",
       "      <td>custom analyt ipython notebook see</td>\n",
       "      <td>customer analytics ipython notebook see</td>\n",
       "      <td>40</td>\n",
       "    </tr>\n",
       "    <tr>\n",
       "      <th>2</th>\n",
       "      <td>Sylius/CustomerOrderCancellationPlugin</td>\n",
       "      <td>PHP</td>\n",
       "      <td>warning BEWARE  This repository has been depr...</td>\n",
       "      <td>warning beware repository deprecated maintaine...</td>\n",
       "      <td>warn bewar repositori deprec maintain evolv sy...</td>\n",
       "      <td>warning beware repository deprecated maintaine...</td>\n",
       "      <td>1901</td>\n",
       "    </tr>\n",
       "    <tr>\n",
       "      <th>3</th>\n",
       "      <td>optiflow/rfm-customer-segmentation</td>\n",
       "      <td>Jupyter Notebook</td>\n",
       "      <td>Recency Frequency and Monetary RFM Customer S...</td>\n",
       "      <td>recency frequency monetary rfm customer segmen...</td>\n",
       "      <td>recenc frequenc monetari rfm custom segment us...</td>\n",
       "      <td>recency frequency monetary rfm customer segmen...</td>\n",
       "      <td>255</td>\n",
       "    </tr>\n",
       "    <tr>\n",
       "      <th>4</th>\n",
       "      <td>Sylius/CustomerReorderPlugin</td>\n",
       "      <td>PHP</td>\n",
       "      <td>warning BEWARE  This repository has been depr...</td>\n",
       "      <td>warning beware repository deprecated maintaine...</td>\n",
       "      <td>warn bewar repositori deprec maintain evolv sy...</td>\n",
       "      <td>warning beware repository deprecated maintaine...</td>\n",
       "      <td>2764</td>\n",
       "    </tr>\n",
       "  </tbody>\n",
       "</table>\n",
       "</div>"
      ],
      "text/plain": [
       "                                         repo          language  \\\n",
       "0  gongdelu/E-commerce-Customer-service-robot  Jupyter Notebook   \n",
       "1                     kpei/Customer-Analytics  Jupyter Notebook   \n",
       "2      Sylius/CustomerOrderCancellationPlugin               PHP   \n",
       "3          optiflow/rfm-customer-segmentation  Jupyter Notebook   \n",
       "4                Sylius/CustomerReorderPlugin               PHP   \n",
       "\n",
       "                                     readme_contents  \\\n",
       "0   EcommerceCustomerservicerobot    SeqSeqGRUGRU...   \n",
       "1            Customer Analytics iPython Notebook See   \n",
       "2   warning BEWARE  This repository has been depr...   \n",
       "3   Recency Frequency and Monetary RFM Customer S...   \n",
       "4   warning BEWARE  This repository has been depr...   \n",
       "\n",
       "                                               clean  \\\n",
       "0  ecommercecustomerservicerobot seqseqgrugruteac...   \n",
       "1            customer analytics ipython notebook see   \n",
       "2  warning beware repository deprecated maintaine...   \n",
       "3  recency frequency monetary rfm customer segmen...   \n",
       "4  warning beware repository deprecated maintaine...   \n",
       "\n",
       "                                             stemmed  \\\n",
       "0  ecommercecustomerservicerobot seqseqgrugruteac...   \n",
       "1                 custom analyt ipython notebook see   \n",
       "2  warn bewar repositori deprec maintain evolv sy...   \n",
       "3  recenc frequenc monetari rfm custom segment us...   \n",
       "4  warn bewar repositori deprec maintain evolv sy...   \n",
       "\n",
       "                                          lemmatized     0  \n",
       "0  ecommercecustomerservicerobot seqseqgrugruteac...    83  \n",
       "1            customer analytics ipython notebook see    40  \n",
       "2  warning beware repository deprecated maintaine...  1901  \n",
       "3  recency frequency monetary rfm customer segmen...   255  \n",
       "4  warning beware repository deprecated maintaine...  2764  "
      ]
     },
     "execution_count": 32,
     "metadata": {},
     "output_type": "execute_result"
    }
   ],
   "source": [
    "df_with_length.head()"
   ]
  },
  {
   "cell_type": "code",
   "execution_count": 33,
   "id": "7998daee",
   "metadata": {},
   "outputs": [],
   "source": [
    "#Rename length column \n",
    "df_with_length.rename(columns = {0: \"length\"}, inplace = True)"
   ]
  },
  {
   "cell_type": "code",
   "execution_count": 34,
   "id": "be10a2fa",
   "metadata": {},
   "outputs": [
    {
     "data": {
      "text/html": [
       "<div>\n",
       "<style scoped>\n",
       "    .dataframe tbody tr th:only-of-type {\n",
       "        vertical-align: middle;\n",
       "    }\n",
       "\n",
       "    .dataframe tbody tr th {\n",
       "        vertical-align: top;\n",
       "    }\n",
       "\n",
       "    .dataframe thead th {\n",
       "        text-align: right;\n",
       "    }\n",
       "</style>\n",
       "<table border=\"1\" class=\"dataframe\">\n",
       "  <thead>\n",
       "    <tr style=\"text-align: right;\">\n",
       "      <th></th>\n",
       "      <th>repo</th>\n",
       "      <th>language</th>\n",
       "      <th>readme_contents</th>\n",
       "      <th>clean</th>\n",
       "      <th>stemmed</th>\n",
       "      <th>lemmatized</th>\n",
       "      <th>length</th>\n",
       "    </tr>\n",
       "  </thead>\n",
       "  <tbody>\n",
       "    <tr>\n",
       "      <th>0</th>\n",
       "      <td>gongdelu/E-commerce-Customer-service-robot</td>\n",
       "      <td>Jupyter Notebook</td>\n",
       "      <td>EcommerceCustomerservicerobot    SeqSeqGRUGRU...</td>\n",
       "      <td>ecommercecustomerservicerobot seqseqgrugruteac...</td>\n",
       "      <td>ecommercecustomerservicerobot seqseqgrugruteac...</td>\n",
       "      <td>ecommercecustomerservicerobot seqseqgrugruteac...</td>\n",
       "      <td>83</td>\n",
       "    </tr>\n",
       "    <tr>\n",
       "      <th>1</th>\n",
       "      <td>kpei/Customer-Analytics</td>\n",
       "      <td>Jupyter Notebook</td>\n",
       "      <td>Customer Analytics iPython Notebook See</td>\n",
       "      <td>customer analytics ipython notebook see</td>\n",
       "      <td>custom analyt ipython notebook see</td>\n",
       "      <td>customer analytics ipython notebook see</td>\n",
       "      <td>40</td>\n",
       "    </tr>\n",
       "    <tr>\n",
       "      <th>2</th>\n",
       "      <td>Sylius/CustomerOrderCancellationPlugin</td>\n",
       "      <td>PHP</td>\n",
       "      <td>warning BEWARE  This repository has been depr...</td>\n",
       "      <td>warning beware repository deprecated maintaine...</td>\n",
       "      <td>warn bewar repositori deprec maintain evolv sy...</td>\n",
       "      <td>warning beware repository deprecated maintaine...</td>\n",
       "      <td>1901</td>\n",
       "    </tr>\n",
       "    <tr>\n",
       "      <th>3</th>\n",
       "      <td>optiflow/rfm-customer-segmentation</td>\n",
       "      <td>Jupyter Notebook</td>\n",
       "      <td>Recency Frequency and Monetary RFM Customer S...</td>\n",
       "      <td>recency frequency monetary rfm customer segmen...</td>\n",
       "      <td>recenc frequenc monetari rfm custom segment us...</td>\n",
       "      <td>recency frequency monetary rfm customer segmen...</td>\n",
       "      <td>255</td>\n",
       "    </tr>\n",
       "    <tr>\n",
       "      <th>4</th>\n",
       "      <td>Sylius/CustomerReorderPlugin</td>\n",
       "      <td>PHP</td>\n",
       "      <td>warning BEWARE  This repository has been depr...</td>\n",
       "      <td>warning beware repository deprecated maintaine...</td>\n",
       "      <td>warn bewar repositori deprec maintain evolv sy...</td>\n",
       "      <td>warning beware repository deprecated maintaine...</td>\n",
       "      <td>2764</td>\n",
       "    </tr>\n",
       "  </tbody>\n",
       "</table>\n",
       "</div>"
      ],
      "text/plain": [
       "                                         repo          language  \\\n",
       "0  gongdelu/E-commerce-Customer-service-robot  Jupyter Notebook   \n",
       "1                     kpei/Customer-Analytics  Jupyter Notebook   \n",
       "2      Sylius/CustomerOrderCancellationPlugin               PHP   \n",
       "3          optiflow/rfm-customer-segmentation  Jupyter Notebook   \n",
       "4                Sylius/CustomerReorderPlugin               PHP   \n",
       "\n",
       "                                     readme_contents  \\\n",
       "0   EcommerceCustomerservicerobot    SeqSeqGRUGRU...   \n",
       "1            Customer Analytics iPython Notebook See   \n",
       "2   warning BEWARE  This repository has been depr...   \n",
       "3   Recency Frequency and Monetary RFM Customer S...   \n",
       "4   warning BEWARE  This repository has been depr...   \n",
       "\n",
       "                                               clean  \\\n",
       "0  ecommercecustomerservicerobot seqseqgrugruteac...   \n",
       "1            customer analytics ipython notebook see   \n",
       "2  warning beware repository deprecated maintaine...   \n",
       "3  recency frequency monetary rfm customer segmen...   \n",
       "4  warning beware repository deprecated maintaine...   \n",
       "\n",
       "                                             stemmed  \\\n",
       "0  ecommercecustomerservicerobot seqseqgrugruteac...   \n",
       "1                 custom analyt ipython notebook see   \n",
       "2  warn bewar repositori deprec maintain evolv sy...   \n",
       "3  recenc frequenc monetari rfm custom segment us...   \n",
       "4  warn bewar repositori deprec maintain evolv sy...   \n",
       "\n",
       "                                          lemmatized  length  \n",
       "0  ecommercecustomerservicerobot seqseqgrugruteac...      83  \n",
       "1            customer analytics ipython notebook see      40  \n",
       "2  warning beware repository deprecated maintaine...    1901  \n",
       "3  recency frequency monetary rfm customer segmen...     255  \n",
       "4  warning beware repository deprecated maintaine...    2764  "
      ]
     },
     "execution_count": 34,
     "metadata": {},
     "output_type": "execute_result"
    }
   ],
   "source": [
    "df_with_length.head()"
   ]
  },
  {
   "cell_type": "code",
   "execution_count": 35,
   "id": "07736e59",
   "metadata": {},
   "outputs": [
    {
     "data": {
      "text/plain": [
       "Jupyter Notebook    49\n",
       "PHP                 38\n",
       "Python              25\n",
       "JavaScript          24\n",
       "Name: language, dtype: int64"
      ]
     },
     "execution_count": 35,
     "metadata": {},
     "output_type": "execute_result"
    }
   ],
   "source": [
    "#Get list of unique langauges\n",
    "df_with_length.language.value_counts()"
   ]
  },
  {
   "cell_type": "code",
   "execution_count": 36,
   "id": "9e58db21",
   "metadata": {},
   "outputs": [],
   "source": [
    "#Create DataFrames for each language\n",
    "jupyter = df_with_length[df_with_length.language == \"Jupyter Notebook\"]\n",
    "php = df_with_length[df_with_length.language == \"PHP\"]\n",
    "python = df_with_length[df_with_length.language == \"Python\"]\n",
    "java = df_with_length[df_with_length.language == \"JavaScript\"]"
   ]
  },
  {
   "cell_type": "code",
   "execution_count": 37,
   "id": "a9f93fc1",
   "metadata": {},
   "outputs": [],
   "source": [
    "#Reset the index of the new DataFrames \n",
    "jupyter = jupyter.reset_index()\n",
    "php = php.reset_index()\n",
    "python = python.reset_index()\n",
    "java = java.reset_index()"
   ]
  },
  {
   "cell_type": "code",
   "execution_count": 38,
   "id": "11f57e8d",
   "metadata": {},
   "outputs": [
    {
     "name": "stdout",
     "output_type": "stream",
     "text": [
      "Jupyter Notebook\n",
      "Median READme length 1644.0\n",
      "Mean READme length 3242.938775510204\n",
      " \n",
      "PHP\n",
      "Median READme length 746.5\n",
      "Mean READme length 1439.4736842105262\n",
      " \n",
      "Python\n",
      "Median READme length 644.0\n",
      "Mean READme length 1579.96\n",
      " \n",
      "JavaScript\n",
      "Median READme length 1107.5\n",
      "Mean READme length 2354.375\n",
      " \n"
     ]
    }
   ],
   "source": [
    "#Calculate median and average lengths for each DataFrame\n",
    "dataframes = [jupyter, php, python, java]\n",
    "for lang in dataframes:\n",
    "    print(lang.language[0])\n",
    "    print(\"Median READme length\", lang.length.median())\n",
    "    print(\"Mean READme length\", lang.length.mean())\n",
    "    print(\" \")"
   ]
  },
  {
   "cell_type": "markdown",
   "id": "2c00ebd3",
   "metadata": {},
   "source": [
    "Now we will run statistical testing to determine if the average length of the READme file for each language is significantly different than the length of the READme file for other languages.\n",
    "\n",
    "As is customary, for the following statistical tests, our alpha value will be 0.05."
   ]
  },
  {
   "cell_type": "code",
   "execution_count": 39,
   "id": "d0aa8fbe",
   "metadata": {},
   "outputs": [
    {
     "name": "stdout",
     "output_type": "stream",
     "text": [
      "PHP average READme length vs Jupyter average length\n",
      "Ttest_indResult(statistic=-1.8616184902205477, pvalue=0.06611305850967955)\n",
      " \n",
      "Python average READme length vs Jupyter average length\n",
      "Ttest_indResult(statistic=-1.3835831902700682, pvalue=0.17076087452026897)\n",
      " \n",
      "JavaScript average READme length vs Jupyter average length\n",
      "Ttest_indResult(statistic=-0.7091768908777644, pvalue=0.4805370466090102)\n",
      " \n"
     ]
    }
   ],
   "source": [
    "not_jupyter = [php, python, java]\n",
    "for lang in not_jupyter:\n",
    "    print(lang.language[0], \"average READme length vs Jupyter average length\")\n",
    "    print(stats.ttest_ind(lang.length, jupyter.length))\n",
    "    print(\" \")"
   ]
  },
  {
   "cell_type": "code",
   "execution_count": 40,
   "id": "3fce3042",
   "metadata": {},
   "outputs": [
    {
     "name": "stdout",
     "output_type": "stream",
     "text": [
      "Python average READme length vs PHP average length\n",
      "Ttest_indResult(statistic=0.22927542200610088, pvalue=0.8194218622696456)\n",
      " \n",
      "JavaScript average READme length vs PHP average length\n",
      "Ttest_indResult(statistic=1.3276887891704021, pvalue=0.18931025885020386)\n",
      " \n"
     ]
    }
   ],
   "source": [
    "not_php = [python, java]\n",
    "for lang in not_php:\n",
    "    print(lang.language[0], \"average READme length vs PHP average length\")\n",
    "    print(stats.ttest_ind(lang.length, php.length))\n",
    "    print(\" \")"
   ]
  },
  {
   "cell_type": "code",
   "execution_count": 41,
   "id": "8b565448",
   "metadata": {},
   "outputs": [
    {
     "name": "stdout",
     "output_type": "stream",
     "text": [
      "Python average READme length vs Java average length\n",
      "Ttest_indResult(statistic=-0.8921389809818724, pvalue=0.3768633998634675)\n"
     ]
    }
   ],
   "source": [
    "print(\"Python average READme length vs Java average length\")\n",
    "print(stats.ttest_ind(python.length, java.length))"
   ]
  },
  {
   "cell_type": "markdown",
   "id": "5378c0fe",
   "metadata": {},
   "source": [
    "The above statistical tests indicate that none of the lengths of the READme files of one programming language differ signficantly from the lengths of the READme files of any other programming language. \n",
    "\n",
    "We can also run statistical testing comparing the length of each programming language's READme files to the overall population READme file length."
   ]
  },
  {
   "cell_type": "code",
   "execution_count": 42,
   "id": "e42503a0",
   "metadata": {},
   "outputs": [
    {
     "name": "stdout",
     "output_type": "stream",
     "text": [
      "Jupyter Notebook READme length vs all languages READme lengths\n",
      "Ttest_1sampResult(statistic=1.193575271661778, pvalue=0.23851004226093867)\n",
      " \n",
      "PHP READme length vs all languages READme lengths\n",
      "Ttest_1sampResult(statistic=-2.4404955964402517, pvalue=0.019575195371731947)\n",
      " \n",
      "Python READme length vs all languages READme lengths\n",
      "Ttest_1sampResult(statistic=-1.271917776615204, pvalue=0.21558940036119228)\n",
      " \n",
      "JavaScript READme length vs all languages READme lengths\n",
      "Ttest_1sampResult(statistic=0.11482863002003657, pvalue=0.9095775400216792)\n",
      " \n"
     ]
    }
   ],
   "source": [
    "for lang in dataframes:\n",
    "    print(lang.language[0], \"READme length vs all languages READme lengths\")\n",
    "    print(stats.ttest_1samp(lang.length, df_with_length.length.mean()))\n",
    "    print(\" \")"
   ]
  },
  {
   "cell_type": "markdown",
   "id": "3c94376d",
   "metadata": {},
   "source": [
    "The T-Test here indicated that he length of the PHP READme files differs signficantly from the overall population READme file length."
   ]
  },
  {
   "cell_type": "markdown",
   "id": "658a93f4",
   "metadata": {},
   "source": [
    "### Do different programming languages use a different number of unique words?\n",
    "\n",
    "To answer this question, we can first simply check how many unique words are used in each language."
   ]
  },
  {
   "cell_type": "code",
   "execution_count": 45,
   "id": "67981c4c",
   "metadata": {},
   "outputs": [
    {
     "data": {
      "text/plain": [
       "2630"
      ]
     },
     "execution_count": 45,
     "metadata": {},
     "output_type": "execute_result"
    }
   ],
   "source": [
    "#Get number of unique words in Jupyter Notebook READme files\n",
    "jupyter_words = ' '.join(jupyter.stemmed)\n",
    "jupyter_unique_words = len(set(re.findall('\\w+', jupyter_words)))\n",
    "jupyter_unique_words"
   ]
  },
  {
   "cell_type": "code",
   "execution_count": 46,
   "id": "4fe0cd7b",
   "metadata": {},
   "outputs": [
    {
     "data": {
      "text/plain": [
       "1106"
      ]
     },
     "execution_count": 46,
     "metadata": {},
     "output_type": "execute_result"
    }
   ],
   "source": [
    "#Get number of unique words for PHP READme files\n",
    "php_words = ' '.join(php.stemmed)\n",
    "php_unique_words = len(set(re.findall('\\w+', php_words)))\n",
    "php_unique_words"
   ]
  },
  {
   "cell_type": "code",
   "execution_count": 47,
   "id": "e07ee0b4",
   "metadata": {},
   "outputs": [
    {
     "data": {
      "text/plain": [
       "1291"
      ]
     },
     "execution_count": 47,
     "metadata": {},
     "output_type": "execute_result"
    }
   ],
   "source": [
    "#Get number of unique words for Python READme files\n",
    "python_words = ' '.join(python.stemmed)\n",
    "python_unique_words = len(set(re.findall('\\w+', python_words)))\n",
    "python_unique_words"
   ]
  },
  {
   "cell_type": "code",
   "execution_count": 48,
   "id": "92ccca27",
   "metadata": {},
   "outputs": [
    {
     "data": {
      "text/plain": [
       "1395"
      ]
     },
     "execution_count": 48,
     "metadata": {},
     "output_type": "execute_result"
    }
   ],
   "source": [
    "#Get number of unique words for Java READme files\n",
    "java_words = ' '.join(java.stemmed)\n",
    "java_unique_words = len(set(re.findall('\\w+', java_words)))\n",
    "java_unique_words"
   ]
  },
  {
   "cell_type": "markdown",
   "id": "e9124a17",
   "metadata": {},
   "source": [
    "Yes, each languages does use a different number of unique words. To test the stastical significance of the difference of the amount of unique words per READme file per language, however, we will need to add a `unique_words` column to our dataframe."
   ]
  },
  {
   "cell_type": "code",
   "execution_count": 49,
   "id": "7b4a1442",
   "metadata": {},
   "outputs": [],
   "source": [
    "#Empty list\n",
    "all_words_unique = []\n",
    "#Append number of unique words per READme file to list\n",
    "for i in range(len(df)):\n",
    "    all_words_unique.append(len(set(re.findall('\\w+', df.stemmed[i]))))"
   ]
  },
  {
   "cell_type": "code",
   "execution_count": 50,
   "id": "1839f53b",
   "metadata": {},
   "outputs": [],
   "source": [
    "#Convert number of unique words list into a DataFrame\n",
    "words_unique_df = pd.DataFrame(all_words_unique)"
   ]
  },
  {
   "cell_type": "code",
   "execution_count": 51,
   "id": "60ed8d42",
   "metadata": {},
   "outputs": [],
   "source": [
    "#Concatenate main DataFrame with unique words DataFrame\n",
    "df_with_unique_words = pd.concat([df, words_unique_df], axis = 1)"
   ]
  },
  {
   "cell_type": "code",
   "execution_count": 52,
   "id": "e649a0b4",
   "metadata": {},
   "outputs": [
    {
     "data": {
      "text/html": [
       "<div>\n",
       "<style scoped>\n",
       "    .dataframe tbody tr th:only-of-type {\n",
       "        vertical-align: middle;\n",
       "    }\n",
       "\n",
       "    .dataframe tbody tr th {\n",
       "        vertical-align: top;\n",
       "    }\n",
       "\n",
       "    .dataframe thead th {\n",
       "        text-align: right;\n",
       "    }\n",
       "</style>\n",
       "<table border=\"1\" class=\"dataframe\">\n",
       "  <thead>\n",
       "    <tr style=\"text-align: right;\">\n",
       "      <th></th>\n",
       "      <th>repo</th>\n",
       "      <th>language</th>\n",
       "      <th>readme_contents</th>\n",
       "      <th>clean</th>\n",
       "      <th>stemmed</th>\n",
       "      <th>lemmatized</th>\n",
       "      <th>0</th>\n",
       "    </tr>\n",
       "  </thead>\n",
       "  <tbody>\n",
       "    <tr>\n",
       "      <th>0</th>\n",
       "      <td>gongdelu/E-commerce-Customer-service-robot</td>\n",
       "      <td>Jupyter Notebook</td>\n",
       "      <td>EcommerceCustomerservicerobot    SeqSeqGRUGRU...</td>\n",
       "      <td>ecommercecustomerservicerobot seqseqgrugruteac...</td>\n",
       "      <td>ecommercecustomerservicerobot seqseqgrugruteac...</td>\n",
       "      <td>ecommercecustomerservicerobot seqseqgrugruteac...</td>\n",
       "      <td>6</td>\n",
       "    </tr>\n",
       "    <tr>\n",
       "      <th>1</th>\n",
       "      <td>kpei/Customer-Analytics</td>\n",
       "      <td>Jupyter Notebook</td>\n",
       "      <td>Customer Analytics iPython Notebook See</td>\n",
       "      <td>customer analytics ipython notebook see</td>\n",
       "      <td>custom analyt ipython notebook see</td>\n",
       "      <td>customer analytics ipython notebook see</td>\n",
       "      <td>5</td>\n",
       "    </tr>\n",
       "    <tr>\n",
       "      <th>2</th>\n",
       "      <td>Sylius/CustomerOrderCancellationPlugin</td>\n",
       "      <td>PHP</td>\n",
       "      <td>warning BEWARE  This repository has been depr...</td>\n",
       "      <td>warning beware repository deprecated maintaine...</td>\n",
       "      <td>warn bewar repositori deprec maintain evolv sy...</td>\n",
       "      <td>warning beware repository deprecated maintaine...</td>\n",
       "      <td>107</td>\n",
       "    </tr>\n",
       "    <tr>\n",
       "      <th>3</th>\n",
       "      <td>optiflow/rfm-customer-segmentation</td>\n",
       "      <td>Jupyter Notebook</td>\n",
       "      <td>Recency Frequency and Monetary RFM Customer S...</td>\n",
       "      <td>recency frequency monetary rfm customer segmen...</td>\n",
       "      <td>recenc frequenc monetari rfm custom segment us...</td>\n",
       "      <td>recency frequency monetary rfm customer segmen...</td>\n",
       "      <td>23</td>\n",
       "    </tr>\n",
       "    <tr>\n",
       "      <th>4</th>\n",
       "      <td>Sylius/CustomerReorderPlugin</td>\n",
       "      <td>PHP</td>\n",
       "      <td>warning BEWARE  This repository has been depr...</td>\n",
       "      <td>warning beware repository deprecated maintaine...</td>\n",
       "      <td>warn bewar repositori deprec maintain evolv sy...</td>\n",
       "      <td>warning beware repository deprecated maintaine...</td>\n",
       "      <td>143</td>\n",
       "    </tr>\n",
       "  </tbody>\n",
       "</table>\n",
       "</div>"
      ],
      "text/plain": [
       "                                         repo          language  \\\n",
       "0  gongdelu/E-commerce-Customer-service-robot  Jupyter Notebook   \n",
       "1                     kpei/Customer-Analytics  Jupyter Notebook   \n",
       "2      Sylius/CustomerOrderCancellationPlugin               PHP   \n",
       "3          optiflow/rfm-customer-segmentation  Jupyter Notebook   \n",
       "4                Sylius/CustomerReorderPlugin               PHP   \n",
       "\n",
       "                                     readme_contents  \\\n",
       "0   EcommerceCustomerservicerobot    SeqSeqGRUGRU...   \n",
       "1            Customer Analytics iPython Notebook See   \n",
       "2   warning BEWARE  This repository has been depr...   \n",
       "3   Recency Frequency and Monetary RFM Customer S...   \n",
       "4   warning BEWARE  This repository has been depr...   \n",
       "\n",
       "                                               clean  \\\n",
       "0  ecommercecustomerservicerobot seqseqgrugruteac...   \n",
       "1            customer analytics ipython notebook see   \n",
       "2  warning beware repository deprecated maintaine...   \n",
       "3  recency frequency monetary rfm customer segmen...   \n",
       "4  warning beware repository deprecated maintaine...   \n",
       "\n",
       "                                             stemmed  \\\n",
       "0  ecommercecustomerservicerobot seqseqgrugruteac...   \n",
       "1                 custom analyt ipython notebook see   \n",
       "2  warn bewar repositori deprec maintain evolv sy...   \n",
       "3  recenc frequenc monetari rfm custom segment us...   \n",
       "4  warn bewar repositori deprec maintain evolv sy...   \n",
       "\n",
       "                                          lemmatized    0  \n",
       "0  ecommercecustomerservicerobot seqseqgrugruteac...    6  \n",
       "1            customer analytics ipython notebook see    5  \n",
       "2  warning beware repository deprecated maintaine...  107  \n",
       "3  recency frequency monetary rfm customer segmen...   23  \n",
       "4  warning beware repository deprecated maintaine...  143  "
      ]
     },
     "execution_count": 52,
     "metadata": {},
     "output_type": "execute_result"
    }
   ],
   "source": [
    "df_with_unique_words.head()"
   ]
  },
  {
   "cell_type": "code",
   "execution_count": 57,
   "id": "a639bf78",
   "metadata": {},
   "outputs": [],
   "source": [
    "#Rename unique words column\n",
    "df_with_unique_words.rename(columns = {0: \"unique_words\"}, inplace = True)"
   ]
  },
  {
   "cell_type": "code",
   "execution_count": 58,
   "id": "d737ae00",
   "metadata": {},
   "outputs": [],
   "source": [
    "#Create DataFrames for each programming language\n",
    "jupyter = df_with_unique_words[df_with_unique_words.language == \"Jupyter Notebook\"]\n",
    "php = df_with_unique_words[df_with_unique_words.language == \"PHP\"]\n",
    "python = df_with_unique_words[df_with_unique_words.language == \"Python\"]\n",
    "java = df_with_unique_words[df_with_unique_words.language == \"JavaScript\"]"
   ]
  },
  {
   "cell_type": "code",
   "execution_count": 59,
   "id": "9a71940c",
   "metadata": {},
   "outputs": [],
   "source": [
    "#Reset index of the new DataFrames\n",
    "jupyter = jupyter.reset_index()\n",
    "php = php.reset_index()\n",
    "python = python.reset_index()\n",
    "java = java.reset_index()"
   ]
  },
  {
   "cell_type": "markdown",
   "id": "d1abf6e9",
   "metadata": {},
   "source": [
    "We will now run a T-test comparing the amount of unique words per READme file per programming language to the amount of unique words per READme file in other languages.\n",
    "\n",
    "As usual, for the following stastical tests, we will set our alpha value equal to 0.05."
   ]
  },
  {
   "cell_type": "code",
   "execution_count": 60,
   "id": "cd0ba7de",
   "metadata": {},
   "outputs": [
    {
     "name": "stdout",
     "output_type": "stream",
     "text": [
      "PHP average unique words vs Jupyter average unique words\n",
      "Ttest_indResult(statistic=-2.433140313673896, pvalue=0.017064510499042333)\n",
      " \n",
      "Python average unique words vs Jupyter average unique words\n",
      "Ttest_indResult(statistic=-1.6128187626187684, pvalue=0.11115882462933681)\n",
      " \n",
      "JavaScript average unique words vs Jupyter average unique words\n",
      "Ttest_indResult(statistic=-0.7889065178819505, pvalue=0.43279310141216065)\n",
      " \n"
     ]
    }
   ],
   "source": [
    "not_jupyter = [php, python, java]\n",
    "for lang in not_jupyter:\n",
    "    print(lang.language[0], \"average unique words vs Jupyter average unique words\")\n",
    "    print(stats.ttest_ind(lang.unique_words, jupyter.unique_words))\n",
    "    print(\" \")"
   ]
  },
  {
   "cell_type": "code",
   "execution_count": 61,
   "id": "ef28caf4",
   "metadata": {},
   "outputs": [
    {
     "name": "stdout",
     "output_type": "stream",
     "text": [
      "Python average unique words vs PHP average unique words\n",
      "Ttest_indResult(statistic=0.4580777078010558, pvalue=0.6485243059897029)\n",
      " \n",
      "JavaScript average unique words vs PHP average unique words\n",
      "Ttest_indResult(statistic=1.8137204264009048, pvalue=0.07472229430094941)\n",
      " \n"
     ]
    }
   ],
   "source": [
    "not_php = [python, java]\n",
    "for lang in not_php:\n",
    "    print(lang.language[0], \"average unique words vs PHP average unique words\")\n",
    "    print(stats.ttest_ind(lang.unique_words, php.unique_words))\n",
    "    print(\" \")"
   ]
  },
  {
   "cell_type": "code",
   "execution_count": 62,
   "id": "aaef3060",
   "metadata": {},
   "outputs": [
    {
     "name": "stdout",
     "output_type": "stream",
     "text": [
      "Python average unique words vs Java average unique words\n",
      "Ttest_indResult(statistic=-0.9490050476017465, pvalue=0.34747246057657355)\n"
     ]
    }
   ],
   "source": [
    "print(\"Python average unique words vs Java average unique words\")\n",
    "print(stats.ttest_ind(python.unique_words, java.unique_words))"
   ]
  },
  {
   "cell_type": "markdown",
   "id": "94f1de13",
   "metadata": {},
   "source": [
    "Our testing indicated that PHP and Jupyter Notebook use a stastically significant different amount of unique words in their READme files.\n",
    "\n",
    "We can also compare the amount of unique words of the READme files of each language to the overall population unique words."
   ]
  },
  {
   "cell_type": "code",
   "execution_count": 63,
   "id": "32114cea",
   "metadata": {},
   "outputs": [
    {
     "name": "stdout",
     "output_type": "stream",
     "text": [
      "Jupyter Notebook unique words vs all languages unique words\n",
      "Ttest_1sampResult(statistic=1.4898071344052946, pvalue=0.14281701172334046)\n",
      " \n",
      "PHP unique words vs all languages unique words\n",
      "Ttest_1sampResult(statistic=-3.4211473401817645, pvalue=0.0015350607370688137)\n",
      " \n",
      "Python unique words vs all languages unique words\n",
      "Ttest_1sampResult(statistic=-1.1020450367274606, pvalue=0.28137148824009134)\n",
      " \n",
      "JavaScript unique words vs all languages unique words\n",
      "Ttest_1sampResult(statistic=0.25732548982471065, pvalue=0.799215716548088)\n",
      " \n"
     ]
    }
   ],
   "source": [
    "dataframes = [jupyter, php, python, java]\n",
    "for lang in dataframes:\n",
    "    print(lang.language[0], \"unique words vs all languages unique words\")\n",
    "    print(stats.ttest_1samp(lang.unique_words, df_with_unique_words.unique_words.mean()))\n",
    "    print(\" \")"
   ]
  },
  {
   "cell_type": "markdown",
   "id": "0e698905",
   "metadata": {},
   "source": [
    "Only PHP uses a signficantly different amount of unique words in its READme files than the overall population."
   ]
  },
  {
   "cell_type": "markdown",
   "id": "0458720e",
   "metadata": {},
   "source": [
    "### What does the distribution of IDFs look like for the most common words?\n",
    "\n",
    "Recall that we calculated the top 20 most common words in the first question of this section."
   ]
  },
  {
   "cell_type": "code",
   "execution_count": 64,
   "id": "756a4e14",
   "metadata": {},
   "outputs": [
    {
     "data": {
      "text/plain": [
       "custom      923\n",
       "data        424\n",
       "use         407\n",
       "model       258\n",
       "creat       209\n",
       "instal      169\n",
       "project     151\n",
       "file        150\n",
       "run         150\n",
       "featur      147\n",
       "new         144\n",
       "notebook    136\n",
       "account     133\n",
       "magento     128\n",
       "set         127\n",
       "segment     115\n",
       "png         110\n",
       "valu        107\n",
       "churn       106\n",
       "code        106\n",
       "dtype: int64"
      ]
     },
     "execution_count": 64,
     "metadata": {},
     "output_type": "execute_result"
    }
   ],
   "source": [
    "top_20_words"
   ]
  },
  {
   "cell_type": "code",
   "execution_count": 65,
   "id": "5876247e",
   "metadata": {},
   "outputs": [],
   "source": [
    "#Convert top 20 words into list \n",
    "top_20_list = top_20_words.index.to_list()"
   ]
  },
  {
   "cell_type": "markdown",
   "id": "afd32de4",
   "metadata": {},
   "source": [
    "Now we can calculate the IDF of the most common words. We utilize the following function to calculate IDF values."
   ]
  },
  {
   "cell_type": "code",
   "execution_count": 67,
   "id": "11e77c7c",
   "metadata": {},
   "outputs": [],
   "source": [
    "# A simple way to calculate idf for demonstration. Note that this\n",
    "# function relies on the globally defined documents variable.\n",
    "def idf(word):\n",
    "    n_occurences = sum([1 for doc in values_stemmed.values() if word in doc])\n",
    "    return len(values_stemmed) / n_occurences"
   ]
  },
  {
   "cell_type": "markdown",
   "id": "e284779c",
   "metadata": {},
   "source": [
    "We also need to calculate all our stemmed values to compare to our most frequent values."
   ]
  },
  {
   "cell_type": "code",
   "execution_count": 69,
   "id": "3925eeb7",
   "metadata": {},
   "outputs": [],
   "source": [
    "values_stemmed = df.stemmed.to_dict()"
   ]
  },
  {
   "cell_type": "code",
   "execution_count": 70,
   "id": "394082ca",
   "metadata": {},
   "outputs": [],
   "source": [
    "# put the unique words into a data frame\n",
    "most_common_words_idf = (pd.DataFrame(dict(word=top_20_list))\n",
    " # calculate the idf for each word\n",
    " .assign(idf=lambda df: df.word.apply(idf))\n",
    " # sort the data for presentation purposes\n",
    " .set_index('word')\n",
    " .sort_values(by='idf', ascending=False)\n",
    " .head(20))"
   ]
  },
  {
   "cell_type": "code",
   "execution_count": 71,
   "id": "3894ab99",
   "metadata": {},
   "outputs": [
    {
     "data": {
      "text/html": [
       "<div>\n",
       "<style scoped>\n",
       "    .dataframe tbody tr th:only-of-type {\n",
       "        vertical-align: middle;\n",
       "    }\n",
       "\n",
       "    .dataframe tbody tr th {\n",
       "        vertical-align: top;\n",
       "    }\n",
       "\n",
       "    .dataframe thead th {\n",
       "        text-align: right;\n",
       "    }\n",
       "</style>\n",
       "<table border=\"1\" class=\"dataframe\">\n",
       "  <thead>\n",
       "    <tr style=\"text-align: right;\">\n",
       "      <th></th>\n",
       "      <th>idf</th>\n",
       "    </tr>\n",
       "    <tr>\n",
       "      <th>word</th>\n",
       "      <th></th>\n",
       "    </tr>\n",
       "  </thead>\n",
       "  <tbody>\n",
       "    <tr>\n",
       "      <th>png</th>\n",
       "      <td>8.000000</td>\n",
       "    </tr>\n",
       "    <tr>\n",
       "      <th>churn</th>\n",
       "      <td>7.555556</td>\n",
       "    </tr>\n",
       "    <tr>\n",
       "      <th>segment</th>\n",
       "      <td>6.181818</td>\n",
       "    </tr>\n",
       "    <tr>\n",
       "      <th>magento</th>\n",
       "      <td>5.913043</td>\n",
       "    </tr>\n",
       "    <tr>\n",
       "      <th>notebook</th>\n",
       "      <td>4.857143</td>\n",
       "    </tr>\n",
       "    <tr>\n",
       "      <th>account</th>\n",
       "      <td>4.857143</td>\n",
       "    </tr>\n",
       "    <tr>\n",
       "      <th>model</th>\n",
       "      <td>4.121212</td>\n",
       "    </tr>\n",
       "    <tr>\n",
       "      <th>featur</th>\n",
       "      <td>4.121212</td>\n",
       "    </tr>\n",
       "    <tr>\n",
       "      <th>new</th>\n",
       "      <td>3.487179</td>\n",
       "    </tr>\n",
       "    <tr>\n",
       "      <th>file</th>\n",
       "      <td>3.400000</td>\n",
       "    </tr>\n",
       "    <tr>\n",
       "      <th>code</th>\n",
       "      <td>3.317073</td>\n",
       "    </tr>\n",
       "    <tr>\n",
       "      <th>valu</th>\n",
       "      <td>3.238095</td>\n",
       "    </tr>\n",
       "    <tr>\n",
       "      <th>project</th>\n",
       "      <td>3.022222</td>\n",
       "    </tr>\n",
       "    <tr>\n",
       "      <th>creat</th>\n",
       "      <td>2.956522</td>\n",
       "    </tr>\n",
       "    <tr>\n",
       "      <th>run</th>\n",
       "      <td>2.833333</td>\n",
       "    </tr>\n",
       "    <tr>\n",
       "      <th>instal</th>\n",
       "      <td>2.518519</td>\n",
       "    </tr>\n",
       "    <tr>\n",
       "      <th>data</th>\n",
       "      <td>2.158730</td>\n",
       "    </tr>\n",
       "    <tr>\n",
       "      <th>set</th>\n",
       "      <td>1.942857</td>\n",
       "    </tr>\n",
       "    <tr>\n",
       "      <th>use</th>\n",
       "      <td>1.581395</td>\n",
       "    </tr>\n",
       "    <tr>\n",
       "      <th>custom</th>\n",
       "      <td>1.096774</td>\n",
       "    </tr>\n",
       "  </tbody>\n",
       "</table>\n",
       "</div>"
      ],
      "text/plain": [
       "               idf\n",
       "word              \n",
       "png       8.000000\n",
       "churn     7.555556\n",
       "segment   6.181818\n",
       "magento   5.913043\n",
       "notebook  4.857143\n",
       "account   4.857143\n",
       "model     4.121212\n",
       "featur    4.121212\n",
       "new       3.487179\n",
       "file      3.400000\n",
       "code      3.317073\n",
       "valu      3.238095\n",
       "project   3.022222\n",
       "creat     2.956522\n",
       "run       2.833333\n",
       "instal    2.518519\n",
       "data      2.158730\n",
       "set       1.942857\n",
       "use       1.581395\n",
       "custom    1.096774"
      ]
     },
     "execution_count": 71,
     "metadata": {},
     "output_type": "execute_result"
    }
   ],
   "source": [
    "most_common_words_idf"
   ]
  },
  {
   "cell_type": "code",
   "execution_count": 72,
   "id": "13675760",
   "metadata": {},
   "outputs": [
    {
     "data": {
      "image/png": "[encoded data removed]",
      "text/plain": [
       "<Figure size 936x504 with 1 Axes>"
      ]
     },
     "metadata": {},
     "output_type": "display_data"
    }
   ],
   "source": [
    "#Plot IDF of most common words\n",
    "most_common_words_idf.plot.barh()\n",
    "title = plt.title('IDF Values of Top 20 Most Common Words')"
   ]
  },
  {
   "cell_type": "markdown",
   "id": "c46cd168",
   "metadata": {},
   "source": [
    "## Modeling"
   ]
  },
  {
   "cell_type": "markdown",
   "id": "a3f4349a",
   "metadata": {},
   "source": [
    "As is good practice, we split the data into train validate, and test datasets."
   ]
  },
  {
   "cell_type": "code",
   "execution_count": null,
   "id": "178cd2ab",
   "metadata": {},
   "outputs": [],
   "source": []
  }
 ],
 "metadata": {
  "kernelspec": {
   "display_name": "Python 3",
   "language": "python",
   "name": "python3"
  },
  "language_info": {
   "codemirror_mode": {
    "name": "ipython",
    "version": 3
   },
   "file_extension": ".py",
   "mimetype": "text/x-python",
   "name": "python",
   "nbconvert_exporter": "python",
   "pygments_lexer": "ipython3",
   "version": "3.8.8"
  }
 },
 "nbformat": 4,
 "nbformat_minor": 5
}
