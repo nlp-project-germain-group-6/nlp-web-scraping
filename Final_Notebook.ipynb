{
 "cells": [
  {
   "cell_type": "markdown",
   "id": "46a1f186",
   "metadata": {},
   "source": [
    "# Using Natural Language to Predict Programming Languange \n",
    "## Webscraping and Natural Language Processing Project \n",
    "### Presented by Chris Everts, Randy French, and Malachi Hale"
   ]
  },
  {
   "cell_type": "markdown",
   "id": "58914857",
   "metadata": {},
   "source": [
    "## Executive Summary \n",
    "\n",
    "### Project Goal\n",
    "\n",
    "For this project, we will be scraping data from GitHub repository README files. The goal will be to build a model that can predict what programming language a repository is, given the text of the README file.\n",
    "\n",
    "### Outline \n",
    "\n",
    "We take the following steps: \n",
    "\n",
    " - **Acquire** the text data from Github READme files utilizing the Github API. \n",
    " - **Prepare** the data:\n",
    " \n",
    "     - *First* by dropping unneeded information in the data set:\n",
    "     \n",
    "         - eliminating all image formatting text inside of angle brackets, \n",
    "         - eliminating all URL links from the text data, \n",
    "         - dropping rows with null values, \n",
    "         - eliminating rows with text in non-Roman characters, and\n",
    "         - selecting only the eliminates whose language is within the top four most common languages.\n",
    "         \n",
    "     - *Second* we clean the remaining data by:\n",
    "          - Performing a basic \"data cleaning\" through converting all text to lower case, normalize unicode strings, encoding/removing ASCII, and eliminating all foreign characters. \n",
    "          - Tokenizing the text data. \n",
    "          - Creating additional columns of stemmed data and lemmatized data. \n",
    "     \n",
    " - **Explore** the text data by addressing the following questions: \n",
    "    - What are the most common words in READme files?\n",
    "    - Does the length of the READme file vary by programming language?\n",
    "    - Do different programming languages use a different number of unique words?\n",
    "    - What does the distribution of IDFs look like for the most common words?\n",
    "    \n",
    " - **Model** the data to classify based on programming language based on the READme file text.\n",
    "     - We use the classification models Naive Bayes, SVC, Decision Tree, Random Forest, K Nearest Neighbors, and Logistic Regression. \n",
    "     - We run each of these models on the stemmed data, the lemmatized data, and the cleaned data. \n",
    "     - Based on the accuracy score on the validate dataset, we choose the best model to run on the test dataset.\n",
    "     \n",
    "### Key Findings\n",
    "\n",
    "We will demonstrate that we can use the K Nearest Neighbors model on the cleaned text data to predict with an accuracy greater than baseline the programming language that corresponds to each READme file. \n",
    "\n",
    "### Recommendation \n",
    "\n",
    "We were able to create a successful model that predicted better than baseline which programming language a READme file was likely to accompany. There are, however, some ways that we may be able to fortify our model.\n",
    "\n",
    "In this project, we began with an initial dataset of 200 READme files. To make our model even more robust in the future, we may explore using a larger sample of READme files. \n",
    "\n",
    "Furthermore, because natural language differs so signficantly by geographic location, it may be useful to build separate classification models based on the repository creator's location. "
   ]
  },
  {
   "cell_type": "markdown",
   "id": "111893e8",
   "metadata": {},
   "source": [
    "## Import Libraries"
   ]
  },
  {
   "cell_type": "code",
   "execution_count": null,
   "id": "6e54d4fc",
   "metadata": {},
   "outputs": [],
   "source": []
  }
 ],
 "metadata": {
  "kernelspec": {
   "display_name": "Python 3",
   "language": "python",
   "name": "python3"
  },
  "language_info": {
   "codemirror_mode": {
    "name": "ipython",
    "version": 3
   },
   "file_extension": ".py",
   "mimetype": "text/x-python",
   "name": "python",
   "nbconvert_exporter": "python",
   "pygments_lexer": "ipython3",
   "version": "3.8.8"
  }
 },
 "nbformat": 4,
 "nbformat_minor": 5
}
